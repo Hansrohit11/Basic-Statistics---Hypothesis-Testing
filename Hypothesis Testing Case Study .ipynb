{
 "cells": [
  {
   "cell_type": "code",
   "execution_count": 143,
   "id": "99b229a1",
   "metadata": {},
   "outputs": [],
   "source": [
    "import pandas as pd\n",
    "import numpy as np\n",
    "import matplotlib.pyplot as plt\n",
    "import datetime as dt\n",
    "import seaborn as sns\n",
    "\n",
    "# set the graphs to show in the jupyter notebook\n",
    "%matplotlib inline\n",
    "\n",
    "# set seabor graphs to a better style\n",
    "sns.set(style=\"ticks\")\n",
    "\n",
    "import scipy.stats as stats\n",
    "from scipy.stats import chi2_contingency\n",
    "\n",
    "import warnings\n",
    "warnings.filterwarnings(\"ignore\")"
   ]
  },
  {
   "cell_type": "markdown",
   "id": "1557ed74",
   "metadata": {},
   "source": [
    "### BUSINESS PROBLEM-1"
   ]
  },
  {
   "cell_type": "markdown",
   "id": "f1fc5db9",
   "metadata": {},
   "source": [
    "- Using lending club loans data, the team would like to test below hypothesis on how different factors effecing each other (Hint: You may leverage hypothesis testing using statistical tests)\n",
    "\n"
   ]
  },
  {
   "cell_type": "markdown",
   "id": "afcd0138",
   "metadata": {},
   "source": [
    "#### Data Availabilty"
   ]
  },
  {
   "cell_type": "code",
   "execution_count": 144,
   "id": "4241dec8",
   "metadata": {},
   "outputs": [
    {
     "data": {
      "text/html": [
       "<div>\n",
       "<style scoped>\n",
       "    .dataframe tbody tr th:only-of-type {\n",
       "        vertical-align: middle;\n",
       "    }\n",
       "\n",
       "    .dataframe tbody tr th {\n",
       "        vertical-align: top;\n",
       "    }\n",
       "\n",
       "    .dataframe thead th {\n",
       "        text-align: right;\n",
       "    }\n",
       "</style>\n",
       "<table border=\"1\" class=\"dataframe\">\n",
       "  <thead>\n",
       "    <tr style=\"text-align: right;\">\n",
       "      <th></th>\n",
       "      <th>Amount.Requested</th>\n",
       "      <th>Amount.Funded.By.Investors</th>\n",
       "      <th>Interest.Rate</th>\n",
       "      <th>Loan.Length</th>\n",
       "      <th>Loan.Purpose</th>\n",
       "      <th>Debt.To.Income.Ratio</th>\n",
       "      <th>State</th>\n",
       "      <th>Home.Ownership</th>\n",
       "      <th>Monthly.Income</th>\n",
       "      <th>FICO.Range</th>\n",
       "      <th>Open.CREDIT.Lines</th>\n",
       "      <th>Revolving.CREDIT.Balance</th>\n",
       "      <th>Inquiries.in.the.Last.6.Months</th>\n",
       "      <th>Employment.Length</th>\n",
       "    </tr>\n",
       "  </thead>\n",
       "  <tbody>\n",
       "    <tr>\n",
       "      <th>0</th>\n",
       "      <td>20000.0</td>\n",
       "      <td>20000.0</td>\n",
       "      <td>8.90%</td>\n",
       "      <td>36 months</td>\n",
       "      <td>debt_consolidation</td>\n",
       "      <td>14.90%</td>\n",
       "      <td>SC</td>\n",
       "      <td>MORTGAGE</td>\n",
       "      <td>6541.67</td>\n",
       "      <td>735-739</td>\n",
       "      <td>14.0</td>\n",
       "      <td>14272.0</td>\n",
       "      <td>2.0</td>\n",
       "      <td>&lt; 1 year</td>\n",
       "    </tr>\n",
       "    <tr>\n",
       "      <th>1</th>\n",
       "      <td>19200.0</td>\n",
       "      <td>19200.0</td>\n",
       "      <td>12.12%</td>\n",
       "      <td>36 months</td>\n",
       "      <td>debt_consolidation</td>\n",
       "      <td>28.36%</td>\n",
       "      <td>TX</td>\n",
       "      <td>MORTGAGE</td>\n",
       "      <td>4583.33</td>\n",
       "      <td>715-719</td>\n",
       "      <td>12.0</td>\n",
       "      <td>11140.0</td>\n",
       "      <td>1.0</td>\n",
       "      <td>2 years</td>\n",
       "    </tr>\n",
       "    <tr>\n",
       "      <th>2</th>\n",
       "      <td>35000.0</td>\n",
       "      <td>35000.0</td>\n",
       "      <td>21.98%</td>\n",
       "      <td>60 months</td>\n",
       "      <td>debt_consolidation</td>\n",
       "      <td>23.81%</td>\n",
       "      <td>CA</td>\n",
       "      <td>MORTGAGE</td>\n",
       "      <td>11500.00</td>\n",
       "      <td>690-694</td>\n",
       "      <td>14.0</td>\n",
       "      <td>21977.0</td>\n",
       "      <td>1.0</td>\n",
       "      <td>2 years</td>\n",
       "    </tr>\n",
       "    <tr>\n",
       "      <th>3</th>\n",
       "      <td>10000.0</td>\n",
       "      <td>9975.0</td>\n",
       "      <td>9.99%</td>\n",
       "      <td>36 months</td>\n",
       "      <td>debt_consolidation</td>\n",
       "      <td>14.30%</td>\n",
       "      <td>KS</td>\n",
       "      <td>MORTGAGE</td>\n",
       "      <td>3833.33</td>\n",
       "      <td>695-699</td>\n",
       "      <td>10.0</td>\n",
       "      <td>9346.0</td>\n",
       "      <td>0.0</td>\n",
       "      <td>5 years</td>\n",
       "    </tr>\n",
       "    <tr>\n",
       "      <th>4</th>\n",
       "      <td>12000.0</td>\n",
       "      <td>12000.0</td>\n",
       "      <td>11.71%</td>\n",
       "      <td>36 months</td>\n",
       "      <td>credit_card</td>\n",
       "      <td>18.78%</td>\n",
       "      <td>NJ</td>\n",
       "      <td>RENT</td>\n",
       "      <td>3195.00</td>\n",
       "      <td>695-699</td>\n",
       "      <td>11.0</td>\n",
       "      <td>14469.0</td>\n",
       "      <td>0.0</td>\n",
       "      <td>9 years</td>\n",
       "    </tr>\n",
       "  </tbody>\n",
       "</table>\n",
       "</div>"
      ],
      "text/plain": [
       "   Amount.Requested  Amount.Funded.By.Investors Interest.Rate Loan.Length  \\\n",
       "0           20000.0                     20000.0         8.90%   36 months   \n",
       "1           19200.0                     19200.0        12.12%   36 months   \n",
       "2           35000.0                     35000.0        21.98%   60 months   \n",
       "3           10000.0                      9975.0         9.99%   36 months   \n",
       "4           12000.0                     12000.0        11.71%   36 months   \n",
       "\n",
       "         Loan.Purpose Debt.To.Income.Ratio State Home.Ownership  \\\n",
       "0  debt_consolidation               14.90%    SC       MORTGAGE   \n",
       "1  debt_consolidation               28.36%    TX       MORTGAGE   \n",
       "2  debt_consolidation               23.81%    CA       MORTGAGE   \n",
       "3  debt_consolidation               14.30%    KS       MORTGAGE   \n",
       "4         credit_card               18.78%    NJ           RENT   \n",
       "\n",
       "   Monthly.Income FICO.Range  Open.CREDIT.Lines  Revolving.CREDIT.Balance  \\\n",
       "0         6541.67    735-739               14.0                   14272.0   \n",
       "1         4583.33    715-719               12.0                   11140.0   \n",
       "2        11500.00    690-694               14.0                   21977.0   \n",
       "3         3833.33    695-699               10.0                    9346.0   \n",
       "4         3195.00    695-699               11.0                   14469.0   \n",
       "\n",
       "   Inquiries.in.the.Last.6.Months Employment.Length  \n",
       "0                             2.0          < 1 year  \n",
       "1                             1.0           2 years  \n",
       "2                             1.0           2 years  \n",
       "3                             0.0           5 years  \n",
       "4                             0.0           9 years  "
      ]
     },
     "execution_count": 144,
     "metadata": {},
     "output_type": "execute_result"
    }
   ],
   "source": [
    "#Importing and reading the data file:\n",
    "\n",
    "loan_data = pd.read_csv(\"C:/Users/Dell/Downloads/Basic Statistics - Hypothesis Testing/4. Basic Statistics - Hypothesis Testing/LoansData.csv\")\n",
    "loan_data.head(5)"
   ]
  },
  {
   "cell_type": "code",
   "execution_count": 145,
   "id": "2fc86448",
   "metadata": {},
   "outputs": [
    {
     "data": {
      "text/plain": [
       "(2500, 14)"
      ]
     },
     "execution_count": 145,
     "metadata": {},
     "output_type": "execute_result"
    }
   ],
   "source": [
    "loan_data.shape"
   ]
  },
  {
   "cell_type": "code",
   "execution_count": 146,
   "id": "cd80d35b",
   "metadata": {},
   "outputs": [
    {
     "name": "stdout",
     "output_type": "stream",
     "text": [
      "<class 'pandas.core.frame.DataFrame'>\n",
      "RangeIndex: 2500 entries, 0 to 2499\n",
      "Data columns (total 14 columns):\n",
      " #   Column                          Non-Null Count  Dtype  \n",
      "---  ------                          --------------  -----  \n",
      " 0   Amount.Requested                2499 non-null   float64\n",
      " 1   Amount.Funded.By.Investors      2499 non-null   float64\n",
      " 2   Interest.Rate                   2498 non-null   object \n",
      " 3   Loan.Length                     2500 non-null   object \n",
      " 4   Loan.Purpose                    2500 non-null   object \n",
      " 5   Debt.To.Income.Ratio            2499 non-null   object \n",
      " 6   State                           2500 non-null   object \n",
      " 7   Home.Ownership                  2499 non-null   object \n",
      " 8   Monthly.Income                  2499 non-null   float64\n",
      " 9   FICO.Range                      2498 non-null   object \n",
      " 10  Open.CREDIT.Lines               2497 non-null   float64\n",
      " 11  Revolving.CREDIT.Balance        2497 non-null   float64\n",
      " 12  Inquiries.in.the.Last.6.Months  2497 non-null   float64\n",
      " 13  Employment.Length               2423 non-null   object \n",
      "dtypes: float64(6), object(8)\n",
      "memory usage: 273.6+ KB\n"
     ]
    }
   ],
   "source": [
    "loan_data.info()"
   ]
  },
  {
   "cell_type": "code",
   "execution_count": 147,
   "id": "f48bb0dc",
   "metadata": {},
   "outputs": [
    {
     "data": {
      "text/plain": [
       "Amount.Requested                   1\n",
       "Amount.Funded.By.Investors         1\n",
       "Interest.Rate                      2\n",
       "Loan.Length                        0\n",
       "Loan.Purpose                       0\n",
       "Debt.To.Income.Ratio               1\n",
       "State                              0\n",
       "Home.Ownership                     1\n",
       "Monthly.Income                     1\n",
       "FICO.Range                         2\n",
       "Open.CREDIT.Lines                  3\n",
       "Revolving.CREDIT.Balance           3\n",
       "Inquiries.in.the.Last.6.Months     3\n",
       "Employment.Length                 77\n",
       "dtype: int64"
      ]
     },
     "execution_count": 147,
     "metadata": {},
     "output_type": "execute_result"
    }
   ],
   "source": [
    "loan_data.isnull().sum()"
   ]
  },
  {
   "cell_type": "markdown",
   "id": "a8a525ae",
   "metadata": {},
   "source": [
    "### Data Preparation: "
   ]
  },
  {
   "cell_type": "code",
   "execution_count": 148,
   "id": "b5e64ed1",
   "metadata": {},
   "outputs": [
    {
     "data": {
      "text/plain": [
       "Index(['Amount Requested', 'Amount Funded By Investors', 'Interest Rate',\n",
       "       'Loan Length', 'Loan Purpose', 'Debt To Income Ratio', 'State',\n",
       "       'Home Ownership', 'Monthly Income', 'FICO Range', 'Open CREDIT Lines',\n",
       "       'Revolving CREDIT Balance', 'Inquiries in the Last 6 Months',\n",
       "       'Employment Length'],\n",
       "      dtype='object')"
      ]
     },
     "execution_count": 148,
     "metadata": {},
     "output_type": "execute_result"
    }
   ],
   "source": [
    "loan_data.columns = loan_data.columns.str.replace(\".\",\" \")\n",
    "loan_data.columns"
   ]
  },
  {
   "cell_type": "code",
   "execution_count": 149,
   "id": "1d1b0101",
   "metadata": {},
   "outputs": [],
   "source": [
    "#changing the data type:\n",
    "\n",
    "loan_data['Interest Rate'] = loan_data['Interest Rate'].str.replace(\"%\",\" \").apply(pd.to_numeric)"
   ]
  },
  {
   "cell_type": "code",
   "execution_count": 150,
   "id": "8a83c716",
   "metadata": {},
   "outputs": [],
   "source": [
    "loan_data['Debt To Income Ratio'] = loan_data['Debt To Income Ratio'].str.replace(\"%\",\" \").apply(pd.to_numeric)"
   ]
  },
  {
   "cell_type": "code",
   "execution_count": 151,
   "id": "677773ea",
   "metadata": {},
   "outputs": [
    {
     "data": {
      "text/plain": [
       "Amount Requested                  float64\n",
       "Amount Funded By Investors        float64\n",
       "Interest Rate                     float64\n",
       "Loan Length                        object\n",
       "Loan Purpose                       object\n",
       "Debt To Income Ratio              float64\n",
       "State                              object\n",
       "Home Ownership                     object\n",
       "Monthly Income                    float64\n",
       "FICO Range                         object\n",
       "Open CREDIT Lines                 float64\n",
       "Revolving CREDIT Balance          float64\n",
       "Inquiries in the Last 6 Months    float64\n",
       "Employment Length                  object\n",
       "dtype: object"
      ]
     },
     "execution_count": 151,
     "metadata": {},
     "output_type": "execute_result"
    }
   ],
   "source": [
    "loan_data.dtypes"
   ]
  },
  {
   "cell_type": "code",
   "execution_count": 152,
   "id": "81b75027",
   "metadata": {},
   "outputs": [],
   "source": [
    "#dropping the Employement Length values:\n",
    "\n",
    "loan_data = loan_data.dropna(subset=['Employment Length'])"
   ]
  },
  {
   "cell_type": "code",
   "execution_count": 153,
   "id": "410ec7ff",
   "metadata": {},
   "outputs": [],
   "source": [
    "#Since the null values are very less, hence dropping the values:\n",
    "\n",
    "loan_data = loan_data.dropna()"
   ]
  },
  {
   "cell_type": "code",
   "execution_count": 154,
   "id": "0485ef00",
   "metadata": {},
   "outputs": [
    {
     "data": {
      "text/plain": [
       "Amount Requested                  0\n",
       "Amount Funded By Investors        0\n",
       "Interest Rate                     0\n",
       "Loan Length                       0\n",
       "Loan Purpose                      0\n",
       "Debt To Income Ratio              0\n",
       "State                             0\n",
       "Home Ownership                    0\n",
       "Monthly Income                    0\n",
       "FICO Range                        0\n",
       "Open CREDIT Lines                 0\n",
       "Revolving CREDIT Balance          0\n",
       "Inquiries in the Last 6 Months    0\n",
       "Employment Length                 0\n",
       "dtype: int64"
      ]
     },
     "execution_count": 154,
     "metadata": {},
     "output_type": "execute_result"
    }
   ],
   "source": [
    "loan_data.isnull().sum()"
   ]
  },
  {
   "cell_type": "markdown",
   "id": "0aee59f8",
   "metadata": {},
   "source": [
    "- All null values are treated,"
   ]
  },
  {
   "cell_type": "markdown",
   "id": "3bd737dd",
   "metadata": {},
   "source": [
    "#### a). Intrest rate is varied for different loan amounts (Less intrest charged for high loan amounts)"
   ]
  },
  {
   "cell_type": "code",
   "execution_count": 155,
   "id": "df0960db",
   "metadata": {},
   "outputs": [
    {
     "name": "stdout",
     "output_type": "stream",
     "text": [
      "H0: There is no significant difference between Interest rates for different loan amounts \n"
     ]
    }
   ],
   "source": [
    "#step - 1 - H0:\n",
    "\n",
    "print(\"H0: There is no significant difference between Interest rates for different loan amounts \")"
   ]
  },
  {
   "cell_type": "code",
   "execution_count": 156,
   "id": "e72769f7",
   "metadata": {},
   "outputs": [
    {
     "name": "stdout",
     "output_type": "stream",
     "text": [
      "Ha: There is significant difference between Interest rates for different loan amounts. \n"
     ]
    }
   ],
   "source": [
    "#step- 2 - Ha:\n",
    "\n",
    "print(\"Ha: There is significant difference between Interest rates for different loan amounts. \")"
   ]
  },
  {
   "cell_type": "markdown",
   "id": "d4169b88",
   "metadata": {},
   "source": [
    "CI=95%, Pvalue >0.05"
   ]
  },
  {
   "cell_type": "code",
   "execution_count": 157,
   "id": "495c5563",
   "metadata": {},
   "outputs": [
    {
     "data": {
      "text/plain": [
       "PearsonRResult(statistic=0.33159553110364515, pvalue=5.064256950483673e-63)"
      ]
     },
     "execution_count": 157,
     "metadata": {},
     "output_type": "execute_result"
    }
   ],
   "source": [
    "#test:\n",
    "\n",
    "stats.pearsonr(loan_data['Interest Rate'],loan_data['Amount Funded By Investors'])"
   ]
  },
  {
   "cell_type": "code",
   "execution_count": 158,
   "id": "35baccd9",
   "metadata": {},
   "outputs": [
    {
     "name": "stdout",
     "output_type": "stream",
     "text": [
      "Business Conclusion: Pvalue >0.05, hence we reject the Null hypothesis H0 and accept the alternative hypothesis Ha at 95% Confidence interval, we can say Interest rate is varied for different loan amounts.\n"
     ]
    }
   ],
   "source": [
    "print(\"Business Conclusion: Pvalue >0.05, hence we reject the Null hypothesis H0 and accept the alternative hypothesis Ha at 95% Confidence interval, we can say Interest rate is varied for different loan amounts.\")"
   ]
  },
  {
   "cell_type": "markdown",
   "id": "a0f01c5d",
   "metadata": {},
   "source": [
    "#### b). Loan length is directly effecting interest rate."
   ]
  },
  {
   "cell_type": "code",
   "execution_count": 159,
   "id": "8455f703",
   "metadata": {},
   "outputs": [
    {
     "name": "stdout",
     "output_type": "stream",
     "text": [
      "H0: The Loan Length has no significant effect Interest rate.\n"
     ]
    }
   ],
   "source": [
    "#step - 1 - H0:\n",
    "\n",
    "print(\"H0: The Loan Length has no significant effect Interest rate.\")"
   ]
  },
  {
   "cell_type": "code",
   "execution_count": 160,
   "id": "78244a27",
   "metadata": {},
   "outputs": [
    {
     "name": "stdout",
     "output_type": "stream",
     "text": [
      "Ha: The Loan Length has significant effect Interest rate.\n"
     ]
    }
   ],
   "source": [
    "#step - 2 - Ha:\n",
    "\n",
    "print(\"Ha: The Loan Length has significant effect Interest rate.\")"
   ]
  },
  {
   "cell_type": "markdown",
   "id": "1c46931a",
   "metadata": {},
   "source": [
    "CI=95%, Pvalue >0.05"
   ]
  },
  {
   "cell_type": "code",
   "execution_count": 161,
   "id": "e5b72883",
   "metadata": {},
   "outputs": [
    {
     "data": {
      "text/plain": [
       "36 months    1876\n",
       "60 months     537\n",
       "Name: Loan Length, dtype: int64"
      ]
     },
     "execution_count": 161,
     "metadata": {},
     "output_type": "execute_result"
    }
   ],
   "source": [
    "loan_data['Loan Length'].value_counts()"
   ]
  },
  {
   "cell_type": "code",
   "execution_count": 162,
   "id": "035de0e0",
   "metadata": {},
   "outputs": [],
   "source": [
    "#length of each months:\n",
    "\n",
    "loan_length_36 = loan_data[loan_data['Loan Length'] == '36 months']['Interest Rate']"
   ]
  },
  {
   "cell_type": "code",
   "execution_count": 163,
   "id": "cb848447",
   "metadata": {},
   "outputs": [],
   "source": [
    "loan_length_60 = loan_data[loan_data['Loan Length'] == '60 months']['Interest Rate']"
   ]
  },
  {
   "cell_type": "code",
   "execution_count": 164,
   "id": "6fce10e6",
   "metadata": {},
   "outputs": [
    {
     "data": {
      "text/plain": [
       "12.130074626865769"
      ]
     },
     "execution_count": 164,
     "metadata": {},
     "output_type": "execute_result"
    }
   ],
   "source": [
    "loan_length_36.mean()"
   ]
  },
  {
   "cell_type": "code",
   "execution_count": 165,
   "id": "2701fbd0",
   "metadata": {},
   "outputs": [
    {
     "data": {
      "text/plain": [
       "16.378733705772785"
      ]
     },
     "execution_count": 165,
     "metadata": {},
     "output_type": "execute_result"
    }
   ],
   "source": [
    "loan_length_60.mean()"
   ]
  },
  {
   "cell_type": "code",
   "execution_count": 166,
   "id": "03f8611e",
   "metadata": {},
   "outputs": [
    {
     "data": {
      "text/plain": [
       "Ttest_indResult(statistic=23.05779328482699, pvalue=1.79380106734165e-106)"
      ]
     },
     "execution_count": 166,
     "metadata": {},
     "output_type": "execute_result"
    }
   ],
   "source": [
    "#test:\n",
    "\n",
    "stats.ttest_ind(loan_length_60,loan_length_36)"
   ]
  },
  {
   "cell_type": "code",
   "execution_count": 167,
   "id": "7dbe3c87",
   "metadata": {},
   "outputs": [
    {
     "name": "stdout",
     "output_type": "stream",
     "text": [
      "Business Conclusion: Pvalue is <0.05, hence we reject null hypothesis, we accept alternative hypothesis at 95% Confidence interval, we can say Loan length is directly effecting interest rate. \n"
     ]
    }
   ],
   "source": [
    "print(\"Business Conclusion: Pvalue is <0.05, hence we reject null hypothesis, we accept alternative hypothesis at 95% Confidence interval, we can say Loan length is directly effecting interest rate. \")"
   ]
  },
  {
   "cell_type": "markdown",
   "id": "ac9adb6e",
   "metadata": {},
   "source": [
    "#### c). Interest rate varies for different purpose of loans"
   ]
  },
  {
   "cell_type": "code",
   "execution_count": 168,
   "id": "1eb9ea9a",
   "metadata": {},
   "outputs": [
    {
     "name": "stdout",
     "output_type": "stream",
     "text": [
      "H0: Interest rate doesnt vary significantly for different purpose of loans\n"
     ]
    }
   ],
   "source": [
    "#step - 1 - H0:\n",
    "\n",
    "print(\"H0: Interest rate doesnt vary significantly for different purpose of loans\")"
   ]
  },
  {
   "cell_type": "code",
   "execution_count": 169,
   "id": "c1109af5",
   "metadata": {},
   "outputs": [
    {
     "name": "stdout",
     "output_type": "stream",
     "text": [
      "Ha: Interest rate varies significantly for different purpose of loans\n"
     ]
    }
   ],
   "source": [
    "#step - 2 - Ha:\n",
    "\n",
    "print(\"Ha: Interest rate varies significantly for different purpose of loans\")"
   ]
  },
  {
   "cell_type": "markdown",
   "id": "313959fe",
   "metadata": {},
   "source": [
    "CI=95%, Pvalue >0.05"
   ]
  },
  {
   "cell_type": "code",
   "execution_count": 170,
   "id": "bc6b5f40",
   "metadata": {},
   "outputs": [
    {
     "data": {
      "text/plain": [
       "debt_consolidation    1262\n",
       "credit_card            430\n",
       "other                  189\n",
       "home_improvement       147\n",
       "major_purchase         100\n",
       "small_business          83\n",
       "car                     50\n",
       "wedding                 37\n",
       "moving                  29\n",
       "medical                 28\n",
       "vacation                20\n",
       "house                   20\n",
       "educational             14\n",
       "renewable_energy         4\n",
       "Name: Loan Purpose, dtype: int64"
      ]
     },
     "execution_count": 170,
     "metadata": {},
     "output_type": "execute_result"
    }
   ],
   "source": [
    "loan_data['Loan Purpose'].value_counts()"
   ]
  },
  {
   "cell_type": "code",
   "execution_count": 171,
   "id": "595be166",
   "metadata": {},
   "outputs": [],
   "source": [
    "debt_consolidation = loan_data.loc[loan_data['Loan Purpose'] == 'debt_consolidation', 'Interest Rate']\n",
    "credit_card = loan_data.loc[loan_data['Loan Purpose'] == 'credit_card', 'Interest Rate']\n",
    "other = loan_data.loc[loan_data['Loan Purpose'] == 'other', 'Interest Rate']\n",
    "home_improvement = loan_data.loc[loan_data['Loan Purpose'] == 'home_improvement', 'Interest Rate']\n",
    "major_purchase = loan_data.loc[loan_data['Loan Purpose'] == 'major_purchase', 'Interest Rate']\n",
    "small_business = loan_data.loc[loan_data['Loan Purpose'] == 'small_business', 'Interest Rate']\n",
    "car = loan_data.loc[loan_data['Loan Purpose'] == 'car', 'Interest Rate']\n",
    "wedding = loan_data.loc[loan_data['Loan Purpose'] == 'wedding', 'Interest Rate']\n",
    "moving = loan_data.loc[loan_data['Loan Purpose'] == 'moving', 'Interest Rate']\n",
    "medical = loan_data.loc[loan_data['Loan Purpose'] == 'medical', 'Interest Rate']\n",
    "vacation = loan_data.loc[loan_data['Loan Purpose'] == 'vacation', 'Interest Rate']\n",
    "house = loan_data.loc[loan_data['Loan Purpose'] == 'house', 'Interest Rate']\n",
    "educational = loan_data.loc[loan_data['Loan Purpose'] == 'educational', 'Interest Rate']\n",
    "renewable_energy = loan_data.loc[loan_data['Loan Purpose'] == 'renewable_energy', 'Interest Rate']"
   ]
  },
  {
   "cell_type": "code",
   "execution_count": 172,
   "id": "ef39fc49",
   "metadata": {},
   "outputs": [
    {
     "data": {
      "text/plain": [
       "F_onewayResult(statistic=7.330838185919651, pvalue=2.7646672581411367e-14)"
      ]
     },
     "execution_count": 172,
     "metadata": {},
     "output_type": "execute_result"
    }
   ],
   "source": [
    "stats.f_oneway(debt_consolidation, credit_card, other, home_improvement, major_purchase, small_business, car, wedding, moving, medical, vacation, house, educational, renewable_energy)"
   ]
  },
  {
   "cell_type": "code",
   "execution_count": 173,
   "id": "e017c157",
   "metadata": {},
   "outputs": [
    {
     "name": "stdout",
     "output_type": "stream",
     "text": [
      "Business Conclusion: Pvalue is <0.05, hence we reject null hypothesis, we accept alternative hypothesis at 95% Confidence      interval, we can say Interest rate varies for different purpose of loans. \n"
     ]
    }
   ],
   "source": [
    "print(\"Business Conclusion: Pvalue is <0.05, hence we reject null hypothesis, we accept alternative hypothesis at 95% Confidence      interval, we can say Interest rate varies for different purpose of loans. \")"
   ]
  },
  {
   "cell_type": "markdown",
   "id": "f63fca97",
   "metadata": {},
   "source": [
    "#### d). There is relationship between FICO scores and Home Ownership. It means that, People with owning home will have high FICO scores."
   ]
  },
  {
   "cell_type": "code",
   "execution_count": 174,
   "id": "e3fa16af",
   "metadata": {},
   "outputs": [
    {
     "name": "stdout",
     "output_type": "stream",
     "text": [
      "H0: There is no significant relationship between FICO scores and Home Ownership. \n"
     ]
    }
   ],
   "source": [
    "#step - 1 - H0:\n",
    "\n",
    "print(\"H0: There is no significant relationship between FICO scores and Home Ownership. \")"
   ]
  },
  {
   "cell_type": "code",
   "execution_count": 175,
   "id": "e9fb496d",
   "metadata": {},
   "outputs": [
    {
     "name": "stdout",
     "output_type": "stream",
     "text": [
      "Ha: There is significant relationship between FICO scores and Home Ownership. \n"
     ]
    }
   ],
   "source": [
    "#step - 2 - Ha:\n",
    "\n",
    "print(\"Ha: There is significant relationship between FICO scores and Home Ownership. \")"
   ]
  },
  {
   "cell_type": "markdown",
   "id": "8eb7085e",
   "metadata": {},
   "source": [
    "CI=95%, Pvalue >0.05"
   ]
  },
  {
   "cell_type": "code",
   "execution_count": 176,
   "id": "a8048c08",
   "metadata": {},
   "outputs": [
    {
     "data": {
      "text/plain": [
       "RENT        1110\n",
       "MORTGAGE    1109\n",
       "OWN          189\n",
       "OTHER          5\n",
       "Name: Home Ownership, dtype: int64"
      ]
     },
     "execution_count": 176,
     "metadata": {},
     "output_type": "execute_result"
    }
   ],
   "source": [
    "loan_data['Home Ownership'].value_counts()"
   ]
  },
  {
   "cell_type": "code",
   "execution_count": 177,
   "id": "a490a8bf",
   "metadata": {},
   "outputs": [],
   "source": [
    "## Converting the data type of FICO Range:\n",
    "loan_data['FICO Range'] = loan_data['FICO Range'].apply(lambda x: x.replace('-', '') if isinstance(x, str) else x)"
   ]
  },
  {
   "cell_type": "code",
   "execution_count": 178,
   "id": "ea3e8568",
   "metadata": {},
   "outputs": [],
   "source": [
    "loan_data['FICO Range'] = loan_data['FICO Range'].astype(int)"
   ]
  },
  {
   "cell_type": "code",
   "execution_count": 179,
   "id": "43af2ad3",
   "metadata": {},
   "outputs": [],
   "source": [
    "Rent = loan_data.loc[loan_data['Home Ownership'] == 'RENT', 'FICO Range']\n",
    "Mortgage = loan_data.loc[loan_data['Home Ownership'] == 'MORTGAGE', 'FICO Range']\n",
    "Own = loan_data.loc[loan_data['Home Ownership'] == 'OWN', 'FICO Range']\n",
    "Other = loan_data.loc[loan_data['Home Ownership'] == 'OTHER', 'FICO Range']"
   ]
  },
  {
   "cell_type": "code",
   "execution_count": 180,
   "id": "f1b5d83f",
   "metadata": {},
   "outputs": [
    {
     "data": {
      "text/plain": [
       "F_onewayResult(statistic=20.654646652222116, pvalue=3.2682005447315283e-13)"
      ]
     },
     "execution_count": 180,
     "metadata": {},
     "output_type": "execute_result"
    }
   ],
   "source": [
    "stats.f_oneway(Rent, Mortgage, Own, Other)"
   ]
  },
  {
   "cell_type": "code",
   "execution_count": 181,
   "id": "d829a710",
   "metadata": {},
   "outputs": [
    {
     "name": "stdout",
     "output_type": "stream",
     "text": [
      "Business Conclusion: Pvalue is <0.05, hence we reject null hypothesis, we accept alternative hypothesis at 95% Confidence interval, we can say there is relationship between FICO scores and Home Ownership.\n"
     ]
    }
   ],
   "source": [
    "print(\"Business Conclusion: Pvalue is <0.05, hence we reject null hypothesis, we accept alternative hypothesis at 95% Confidence interval, we can say there is relationship between FICO scores and Home Ownership.\")"
   ]
  },
  {
   "cell_type": "markdown",
   "id": "4094bddb",
   "metadata": {},
   "source": [
    "## BUSINESS PROBLEM - 2"
   ]
  },
  {
   "cell_type": "markdown",
   "id": "0c0be4ea",
   "metadata": {},
   "source": [
    "#### BUSINESS PROBLEM: We would like to assess if there is any difference in the average price quotes provided by Mary and Barry."
   ]
  },
  {
   "cell_type": "markdown",
   "id": "ff0956a7",
   "metadata": {},
   "source": [
    "### Data Availability:\n"
   ]
  },
  {
   "cell_type": "code",
   "execution_count": 182,
   "id": "43947e79",
   "metadata": {},
   "outputs": [],
   "source": [
    "#loading and reading data:\n",
    "\n",
    "price = pd.read_csv(\"C:/Users/Dell/Downloads/Basic Statistics - Hypothesis Testing/4. Basic Statistics - Hypothesis Testing/Price_Quotes.csv\")"
   ]
  },
  {
   "cell_type": "code",
   "execution_count": 183,
   "id": "5f70b1c5",
   "metadata": {},
   "outputs": [
    {
     "data": {
      "text/html": [
       "<div>\n",
       "<style scoped>\n",
       "    .dataframe tbody tr th:only-of-type {\n",
       "        vertical-align: middle;\n",
       "    }\n",
       "\n",
       "    .dataframe tbody tr th {\n",
       "        vertical-align: top;\n",
       "    }\n",
       "\n",
       "    .dataframe thead th {\n",
       "        text-align: right;\n",
       "    }\n",
       "</style>\n",
       "<table border=\"1\" class=\"dataframe\">\n",
       "  <thead>\n",
       "    <tr style=\"text-align: right;\">\n",
       "      <th></th>\n",
       "      <th>Order_Number</th>\n",
       "      <th>Barry_Price</th>\n",
       "      <th>Mary_Price</th>\n",
       "    </tr>\n",
       "  </thead>\n",
       "  <tbody>\n",
       "    <tr>\n",
       "      <th>0</th>\n",
       "      <td>1</td>\n",
       "      <td>126</td>\n",
       "      <td>114</td>\n",
       "    </tr>\n",
       "    <tr>\n",
       "      <th>1</th>\n",
       "      <td>2</td>\n",
       "      <td>110</td>\n",
       "      <td>118</td>\n",
       "    </tr>\n",
       "    <tr>\n",
       "      <th>2</th>\n",
       "      <td>3</td>\n",
       "      <td>138</td>\n",
       "      <td>114</td>\n",
       "    </tr>\n",
       "    <tr>\n",
       "      <th>3</th>\n",
       "      <td>4</td>\n",
       "      <td>142</td>\n",
       "      <td>111</td>\n",
       "    </tr>\n",
       "    <tr>\n",
       "      <th>4</th>\n",
       "      <td>5</td>\n",
       "      <td>146</td>\n",
       "      <td>129</td>\n",
       "    </tr>\n",
       "  </tbody>\n",
       "</table>\n",
       "</div>"
      ],
      "text/plain": [
       "   Order_Number  Barry_Price  Mary_Price\n",
       "0             1          126         114\n",
       "1             2          110         118\n",
       "2             3          138         114\n",
       "3             4          142         111\n",
       "4             5          146         129"
      ]
     },
     "execution_count": 183,
     "metadata": {},
     "output_type": "execute_result"
    }
   ],
   "source": [
    "price.head(5)"
   ]
  },
  {
   "cell_type": "code",
   "execution_count": 184,
   "id": "e4fe699d",
   "metadata": {},
   "outputs": [
    {
     "data": {
      "text/plain": [
       "(12, 3)"
      ]
     },
     "execution_count": 184,
     "metadata": {},
     "output_type": "execute_result"
    }
   ],
   "source": [
    "price.shape"
   ]
  },
  {
   "cell_type": "code",
   "execution_count": 185,
   "id": "7c2bc6bc",
   "metadata": {},
   "outputs": [
    {
     "name": "stdout",
     "output_type": "stream",
     "text": [
      "<class 'pandas.core.frame.DataFrame'>\n",
      "RangeIndex: 12 entries, 0 to 11\n",
      "Data columns (total 3 columns):\n",
      " #   Column        Non-Null Count  Dtype\n",
      "---  ------        --------------  -----\n",
      " 0   Order_Number  12 non-null     int64\n",
      " 1   Barry_Price   12 non-null     int64\n",
      " 2   Mary_Price    12 non-null     int64\n",
      "dtypes: int64(3)\n",
      "memory usage: 416.0 bytes\n"
     ]
    }
   ],
   "source": [
    "price.info()"
   ]
  },
  {
   "cell_type": "markdown",
   "id": "77635b2c",
   "metadata": {},
   "source": [
    "- Data doesnt have any null and missing values.\n",
    "- Data types of all columns are in correct format."
   ]
  },
  {
   "cell_type": "markdown",
   "id": "21cf9e6d",
   "metadata": {},
   "source": [
    "#### We would like to assess if there is any difference in the average price quotes provided by Mary and Barry."
   ]
  },
  {
   "cell_type": "code",
   "execution_count": 186,
   "id": "6b7f0d7f",
   "metadata": {},
   "outputs": [
    {
     "name": "stdout",
     "output_type": "stream",
     "text": [
      "H0: There is no significant difference in the average price quotes provided by Mary and Barry.\n"
     ]
    }
   ],
   "source": [
    "#step - 1 - H0:\n",
    "\n",
    "print(\"H0: There is no significant difference in the average price quotes provided by Mary and Barry.\")"
   ]
  },
  {
   "cell_type": "code",
   "execution_count": 187,
   "id": "9ca67e26",
   "metadata": {},
   "outputs": [
    {
     "name": "stdout",
     "output_type": "stream",
     "text": [
      "Ha: There is significant difference in the average price quotes provided by Mary and Barry.\n"
     ]
    }
   ],
   "source": [
    "#step - 2 - Ha:\n",
    "\n",
    "print(\"Ha: There is significant difference in the average price quotes provided by Mary and Barry.\")"
   ]
  },
  {
   "cell_type": "markdown",
   "id": "99cada79",
   "metadata": {},
   "source": [
    "CI=95%, Pvalue >0.05"
   ]
  },
  {
   "cell_type": "code",
   "execution_count": 188,
   "id": "8072830b",
   "metadata": {},
   "outputs": [
    {
     "data": {
      "text/plain": [
       "124.33333333333333"
      ]
     },
     "execution_count": 188,
     "metadata": {},
     "output_type": "execute_result"
    }
   ],
   "source": [
    "price.Barry_Price.mean()"
   ]
  },
  {
   "cell_type": "code",
   "execution_count": 189,
   "id": "48b1ab34",
   "metadata": {},
   "outputs": [
    {
     "data": {
      "text/plain": [
       "114.75"
      ]
     },
     "execution_count": 189,
     "metadata": {},
     "output_type": "execute_result"
    }
   ],
   "source": [
    "price.Mary_Price.mean()"
   ]
  },
  {
   "cell_type": "code",
   "execution_count": 190,
   "id": "d2aa6903",
   "metadata": {},
   "outputs": [
    {
     "data": {
      "text/plain": [
       "Ttest_indResult(statistic=1.4147436739281787, pvalue=0.17114226132118285)"
      ]
     },
     "execution_count": 190,
     "metadata": {},
     "output_type": "execute_result"
    }
   ],
   "source": [
    "#test:\n",
    "\n",
    "stats.ttest_ind(price.Barry_Price,price.Mary_Price)"
   ]
  },
  {
   "cell_type": "code",
   "execution_count": 191,
   "id": "ebd7d4d6",
   "metadata": {},
   "outputs": [
    {
     "name": "stdout",
     "output_type": "stream",
     "text": [
      "Business Conclusion: Pvalue >0.05, hence we fail to reject the Null hypothesis. At 95% Confidence interval, we cannot justify  that there is difference in the average price quotes provided by Mary and Barry.\n"
     ]
    }
   ],
   "source": [
    "print(\"Business Conclusion: Pvalue >0.05, hence we fail to reject the Null hypothesis. At 95% Confidence interval, we cannot justify  that there is difference in the average price quotes provided by Mary and Barry.\")"
   ]
  },
  {
   "cell_type": "markdown",
   "id": "3cc445a3",
   "metadata": {},
   "source": [
    "## Business Problem - 3:"
   ]
  },
  {
   "cell_type": "markdown",
   "id": "c5323e1e",
   "metadata": {},
   "source": [
    "### Data Availabilty:"
   ]
  },
  {
   "cell_type": "code",
   "execution_count": 192,
   "id": "73ed634f",
   "metadata": {},
   "outputs": [],
   "source": [
    "data =  pd.read_csv(\"C:/Users/Dell/Downloads/Basic Statistics - Hypothesis Testing/4. Basic Statistics - Hypothesis Testing/Treatment_Facility.csv\")"
   ]
  },
  {
   "cell_type": "code",
   "execution_count": 193,
   "id": "c066fdc2",
   "metadata": {},
   "outputs": [
    {
     "data": {
      "text/html": [
       "<div>\n",
       "<style scoped>\n",
       "    .dataframe tbody tr th:only-of-type {\n",
       "        vertical-align: middle;\n",
       "    }\n",
       "\n",
       "    .dataframe tbody tr th {\n",
       "        vertical-align: top;\n",
       "    }\n",
       "\n",
       "    .dataframe thead th {\n",
       "        text-align: right;\n",
       "    }\n",
       "</style>\n",
       "<table border=\"1\" class=\"dataframe\">\n",
       "  <thead>\n",
       "    <tr style=\"text-align: right;\">\n",
       "      <th></th>\n",
       "      <th>Month</th>\n",
       "      <th>Reengineer</th>\n",
       "      <th>Employee_Turnover</th>\n",
       "      <th>VAR4</th>\n",
       "      <th>VAR5</th>\n",
       "    </tr>\n",
       "  </thead>\n",
       "  <tbody>\n",
       "    <tr>\n",
       "      <th>0</th>\n",
       "      <td>1</td>\n",
       "      <td>Prior</td>\n",
       "      <td>0.0000</td>\n",
       "      <td>24.390244</td>\n",
       "      <td>42.682927</td>\n",
       "    </tr>\n",
       "    <tr>\n",
       "      <th>1</th>\n",
       "      <td>2</td>\n",
       "      <td>Prior</td>\n",
       "      <td>6.0606</td>\n",
       "      <td>19.354839</td>\n",
       "      <td>25.806452</td>\n",
       "    </tr>\n",
       "    <tr>\n",
       "      <th>2</th>\n",
       "      <td>3</td>\n",
       "      <td>Prior</td>\n",
       "      <td>12.1212</td>\n",
       "      <td>35.087719</td>\n",
       "      <td>146.198830</td>\n",
       "    </tr>\n",
       "    <tr>\n",
       "      <th>3</th>\n",
       "      <td>4</td>\n",
       "      <td>Prior</td>\n",
       "      <td>3.3333</td>\n",
       "      <td>18.404908</td>\n",
       "      <td>110.429448</td>\n",
       "    </tr>\n",
       "    <tr>\n",
       "      <th>4</th>\n",
       "      <td>5</td>\n",
       "      <td>Prior</td>\n",
       "      <td>12.9032</td>\n",
       "      <td>17.964072</td>\n",
       "      <td>23.952096</td>\n",
       "    </tr>\n",
       "  </tbody>\n",
       "</table>\n",
       "</div>"
      ],
      "text/plain": [
       "   Month Reengineer  Employee_Turnover       VAR4        VAR5\n",
       "0      1      Prior             0.0000  24.390244   42.682927\n",
       "1      2      Prior             6.0606  19.354839   25.806452\n",
       "2      3      Prior            12.1212  35.087719  146.198830\n",
       "3      4      Prior             3.3333  18.404908  110.429448\n",
       "4      5      Prior            12.9032  17.964072   23.952096"
      ]
     },
     "execution_count": 193,
     "metadata": {},
     "output_type": "execute_result"
    }
   ],
   "source": [
    "data.head(5)"
   ]
  },
  {
   "cell_type": "code",
   "execution_count": 194,
   "id": "75349c44",
   "metadata": {},
   "outputs": [
    {
     "data": {
      "text/plain": [
       "(20, 5)"
      ]
     },
     "execution_count": 194,
     "metadata": {},
     "output_type": "execute_result"
    }
   ],
   "source": [
    "data.shape"
   ]
  },
  {
   "cell_type": "markdown",
   "id": "8951cb99",
   "metadata": {},
   "source": [
    "- Data doesn't have any null and missing values."
   ]
  },
  {
   "cell_type": "code",
   "execution_count": 195,
   "id": "89226a71",
   "metadata": {},
   "outputs": [],
   "source": [
    "#renaming the column names of VAR4,VAR5:\n",
    "\n",
    "data = data.rename(columns={'VAR4': 'TRFF', 'VAR5': 'CI'})"
   ]
  },
  {
   "cell_type": "code",
   "execution_count": 196,
   "id": "4db5d880",
   "metadata": {},
   "outputs": [
    {
     "name": "stdout",
     "output_type": "stream",
     "text": [
      "<class 'pandas.core.frame.DataFrame'>\n",
      "RangeIndex: 20 entries, 0 to 19\n",
      "Data columns (total 5 columns):\n",
      " #   Column             Non-Null Count  Dtype  \n",
      "---  ------             --------------  -----  \n",
      " 0   Month              20 non-null     int64  \n",
      " 1   Reengineer         20 non-null     object \n",
      " 2   Employee_Turnover  20 non-null     float64\n",
      " 3   TRFF               20 non-null     float64\n",
      " 4   CI                 20 non-null     float64\n",
      "dtypes: float64(3), int64(1), object(1)\n",
      "memory usage: 928.0+ bytes\n"
     ]
    }
   ],
   "source": [
    "data.info()"
   ]
  },
  {
   "cell_type": "markdown",
   "id": "57c7046f",
   "metadata": {},
   "source": [
    "#### Determine what effect, if any, the reengineering effort had on the incidence behavioral problems and staff turnover. i.e To determine if the reengineering effort changed the critical incidence rate. Is there evidence that the critical incidence rate improved?"
   ]
  },
  {
   "cell_type": "markdown",
   "id": "47aee1ec",
   "metadata": {},
   "source": [
    "#### a). The reengineering effort had on the incidence behavioral problems and staff turnover."
   ]
  },
  {
   "cell_type": "code",
   "execution_count": 197,
   "id": "0405449d",
   "metadata": {},
   "outputs": [
    {
     "name": "stdout",
     "output_type": "stream",
     "text": [
      "H0: The reengineering has no effect on the incidence behavioral problems and staff turnover.\n"
     ]
    }
   ],
   "source": [
    "#step - 1 - H0:\n",
    "\n",
    "print(\"H0: The reengineering has no effect on the incidence behavioral problems and staff turnover.\")"
   ]
  },
  {
   "cell_type": "code",
   "execution_count": 198,
   "id": "b1b01e24",
   "metadata": {},
   "outputs": [
    {
     "name": "stdout",
     "output_type": "stream",
     "text": [
      "Ha: The reengineering has effect on the incidence behavioral problems and staff turnover.\n"
     ]
    }
   ],
   "source": [
    "#step - 2 - Ha:\n",
    "\n",
    "print(\"Ha: The reengineering has effect on the incidence behavioral problems and staff turnover.\")"
   ]
  },
  {
   "cell_type": "markdown",
   "id": "0953b4e2",
   "metadata": {},
   "source": [
    "CI=95%, Pvalue >0.05"
   ]
  },
  {
   "cell_type": "code",
   "execution_count": 199,
   "id": "c1591666",
   "metadata": {},
   "outputs": [],
   "source": [
    "prior_turnover = data.loc[data['Reengineer'] == 'Prior', 'Employee_Turnover']\n",
    "post_turnover = data.loc[data['Reengineer'] == 'Post', 'Employee_Turnover']"
   ]
  },
  {
   "cell_type": "code",
   "execution_count": 200,
   "id": "cc2ee5cf",
   "metadata": {},
   "outputs": [],
   "source": [
    "contingency_table = pd.crosstab(data['Reengineer'], data['Employee_Turnover'])"
   ]
  },
  {
   "cell_type": "code",
   "execution_count": 201,
   "id": "4a91943f",
   "metadata": {},
   "outputs": [
    {
     "data": {
      "text/plain": [
       "Ttest_indResult(statistic=-1.770306704753604, pvalue=0.09361109345535304)"
      ]
     },
     "execution_count": 201,
     "metadata": {},
     "output_type": "execute_result"
    }
   ],
   "source": [
    "#test:\n",
    "\n",
    "stats.ttest_ind(prior_turnover,post_turnover)"
   ]
  },
  {
   "cell_type": "code",
   "execution_count": 202,
   "id": "b16d9c0e",
   "metadata": {},
   "outputs": [
    {
     "data": {
      "text/plain": [
       "(17.8021978021978,\n",
       " 0.46875311570416667,\n",
       " 18,\n",
       " array([[0.7 , 0.35, 0.35, 0.35, 0.35, 0.35, 0.35, 0.35, 0.35, 0.35, 0.35,\n",
       "         0.35, 0.35, 0.35, 0.35, 0.35, 0.35, 0.35, 0.35],\n",
       "        [1.3 , 0.65, 0.65, 0.65, 0.65, 0.65, 0.65, 0.65, 0.65, 0.65, 0.65,\n",
       "         0.65, 0.65, 0.65, 0.65, 0.65, 0.65, 0.65, 0.65]]))"
      ]
     },
     "execution_count": 202,
     "metadata": {},
     "output_type": "execute_result"
    }
   ],
   "source": [
    "stats.chi2_contingency(contingency_table)"
   ]
  },
  {
   "cell_type": "code",
   "execution_count": 203,
   "id": "48e09ea6",
   "metadata": {},
   "outputs": [
    {
     "name": "stdout",
     "output_type": "stream",
     "text": [
      "Business Conclusion: pvalue >0.05, hence we can't reject Null hypothesis. At 95% Confidence interval, we cannot justify that   there is reengineering effect on the incidence behavioral problems and staff turnover. \n"
     ]
    }
   ],
   "source": [
    "print(\"Business Conclusion: pvalue >0.05, hence we can't reject Null hypothesis. At 95% Confidence interval, we cannot justify that   there is reengineering effect on the incidence behavioral problems and staff turnover. \")"
   ]
  },
  {
   "cell_type": "markdown",
   "id": "1df1fee1",
   "metadata": {},
   "source": [
    "####  b). To determine if the reengineering effort changed the critical incidence rate."
   ]
  },
  {
   "cell_type": "code",
   "execution_count": 204,
   "id": "c372b47b",
   "metadata": {},
   "outputs": [
    {
     "name": "stdout",
     "output_type": "stream",
     "text": [
      "H0: The reengineering effort did not change the critical incidence rate.\n"
     ]
    }
   ],
   "source": [
    "#step - 1 - H0:\n",
    "\n",
    "print(\"H0: The reengineering effort did not change the critical incidence rate.\")"
   ]
  },
  {
   "cell_type": "code",
   "execution_count": 205,
   "id": "0fe3f297",
   "metadata": {},
   "outputs": [
    {
     "name": "stdout",
     "output_type": "stream",
     "text": [
      "Ha: The reengineering effort changed the critical incidence rate.\n"
     ]
    }
   ],
   "source": [
    "#step - 2 - Ha:\n",
    "\n",
    "print(\"Ha: The reengineering effort changed the critical incidence rate.\")"
   ]
  },
  {
   "cell_type": "markdown",
   "id": "6d6f3cb1",
   "metadata": {},
   "source": [
    "CI=95%, Pvalue >0.05"
   ]
  },
  {
   "cell_type": "code",
   "execution_count": 206,
   "id": "43f00422",
   "metadata": {},
   "outputs": [],
   "source": [
    "prior_turnover = data.loc[data['Reengineer'] == 'Prior', 'CI']\n",
    "post_turnover = data.loc[data['Reengineer'] == 'Post', 'CI']"
   ]
  },
  {
   "cell_type": "code",
   "execution_count": 207,
   "id": "aa02aa8e",
   "metadata": {},
   "outputs": [
    {
     "data": {
      "text/plain": [
       "Ttest_indResult(statistic=1.627914425352865, pvalue=0.12091989189884148)"
      ]
     },
     "execution_count": 207,
     "metadata": {},
     "output_type": "execute_result"
    }
   ],
   "source": [
    "#test:\n",
    "stats.ttest_ind(prior_turnover,post_turnover)"
   ]
  },
  {
   "cell_type": "code",
   "execution_count": 208,
   "id": "c794e541",
   "metadata": {},
   "outputs": [
    {
     "name": "stdout",
     "output_type": "stream",
     "text": [
      "Business Conclusion: pvalue >0.05, hence we can't reject Null hypothesis. At 95% Confidence interval, we cannot justify that   the reengineering effort changed the critical incidence rate. \n"
     ]
    }
   ],
   "source": [
    "print(\"Business Conclusion: pvalue >0.05, hence we can't reject Null hypothesis. At 95% Confidence interval, we cannot justify that   the reengineering effort changed the critical incidence rate. \")"
   ]
  },
  {
   "cell_type": "markdown",
   "id": "cd2fa647",
   "metadata": {},
   "source": [
    "## Business Problem - 4:"
   ]
  },
  {
   "cell_type": "markdown",
   "id": "1accd6a4",
   "metadata": {},
   "source": [
    "### Data Availabilty:"
   ]
  },
  {
   "cell_type": "code",
   "execution_count": 209,
   "id": "332b156a",
   "metadata": {},
   "outputs": [],
   "source": [
    "priority_data = pd.read_csv(\"C:/Users/Dell/Downloads/Basic Statistics - Hypothesis Testing/4. Basic Statistics - Hypothesis Testing/Priority_Assessment.csv\")"
   ]
  },
  {
   "cell_type": "code",
   "execution_count": 210,
   "id": "f4ff4b48",
   "metadata": {},
   "outputs": [
    {
     "data": {
      "text/html": [
       "<div>\n",
       "<style scoped>\n",
       "    .dataframe tbody tr th:only-of-type {\n",
       "        vertical-align: middle;\n",
       "    }\n",
       "\n",
       "    .dataframe tbody tr th {\n",
       "        vertical-align: top;\n",
       "    }\n",
       "\n",
       "    .dataframe thead th {\n",
       "        text-align: right;\n",
       "    }\n",
       "</style>\n",
       "<table border=\"1\" class=\"dataframe\">\n",
       "  <thead>\n",
       "    <tr style=\"text-align: right;\">\n",
       "      <th></th>\n",
       "      <th>Days</th>\n",
       "      <th>Priority</th>\n",
       "    </tr>\n",
       "  </thead>\n",
       "  <tbody>\n",
       "    <tr>\n",
       "      <th>0</th>\n",
       "      <td>3.3</td>\n",
       "      <td>High</td>\n",
       "    </tr>\n",
       "    <tr>\n",
       "      <th>1</th>\n",
       "      <td>7.9</td>\n",
       "      <td>Medium</td>\n",
       "    </tr>\n",
       "    <tr>\n",
       "      <th>2</th>\n",
       "      <td>0.3</td>\n",
       "      <td>High</td>\n",
       "    </tr>\n",
       "    <tr>\n",
       "      <th>3</th>\n",
       "      <td>0.7</td>\n",
       "      <td>Medium</td>\n",
       "    </tr>\n",
       "    <tr>\n",
       "      <th>4</th>\n",
       "      <td>8.6</td>\n",
       "      <td>Medium</td>\n",
       "    </tr>\n",
       "  </tbody>\n",
       "</table>\n",
       "</div>"
      ],
      "text/plain": [
       "   Days Priority\n",
       "0   3.3     High\n",
       "1   7.9   Medium\n",
       "2   0.3     High\n",
       "3   0.7   Medium\n",
       "4   8.6   Medium"
      ]
     },
     "execution_count": 210,
     "metadata": {},
     "output_type": "execute_result"
    }
   ],
   "source": [
    "priority_data.head(5)"
   ]
  },
  {
   "cell_type": "code",
   "execution_count": 211,
   "id": "8f79c418",
   "metadata": {},
   "outputs": [
    {
     "data": {
      "text/plain": [
       "(642, 2)"
      ]
     },
     "execution_count": 211,
     "metadata": {},
     "output_type": "execute_result"
    }
   ],
   "source": [
    "priority_data.shape"
   ]
  },
  {
   "cell_type": "code",
   "execution_count": 212,
   "id": "c0ab1755",
   "metadata": {},
   "outputs": [
    {
     "name": "stdout",
     "output_type": "stream",
     "text": [
      "<class 'pandas.core.frame.DataFrame'>\n",
      "RangeIndex: 642 entries, 0 to 641\n",
      "Data columns (total 2 columns):\n",
      " #   Column    Non-Null Count  Dtype  \n",
      "---  ------    --------------  -----  \n",
      " 0   Days      642 non-null    float64\n",
      " 1   Priority  642 non-null    object \n",
      "dtypes: float64(1), object(1)\n",
      "memory usage: 10.2+ KB\n"
     ]
    }
   ],
   "source": [
    "priority_data.info()"
   ]
  },
  {
   "cell_type": "markdown",
   "id": "b74fd4a5",
   "metadata": {},
   "source": [
    "Data doesn't have any null and missing values."
   ]
  },
  {
   "cell_type": "markdown",
   "id": "7ebf0ed5",
   "metadata": {},
   "source": [
    "#### If the system is working, then high priority jobs, on average, should be completed more quickly than medium priority jobs, and medium priority jobs should be completed more quickly than low priority jobs. Use the data provided to determine whether thisis, in fact, occurring."
   ]
  },
  {
   "cell_type": "code",
   "execution_count": 213,
   "id": "c71398c5",
   "metadata": {},
   "outputs": [
    {
     "name": "stdout",
     "output_type": "stream",
     "text": [
      "H0: There  is no significant difference in average completion time between High, medium and low priority jobs.\n"
     ]
    }
   ],
   "source": [
    "#step - 1 - H0:\n",
    "\n",
    "print(\"H0: There  is no significant difference in average completion time between High, medium and low priority jobs.\")"
   ]
  },
  {
   "cell_type": "code",
   "execution_count": 214,
   "id": "af6b6d87",
   "metadata": {},
   "outputs": [
    {
     "name": "stdout",
     "output_type": "stream",
     "text": [
      "Ha: There is significant difference in average completion time between High, medium and low priority jobs.\n"
     ]
    }
   ],
   "source": [
    "#step - 2 - Ha:\n",
    "\n",
    "print(\"Ha: There is significant difference in average completion time between High, medium and low priority jobs.\")"
   ]
  },
  {
   "cell_type": "markdown",
   "id": "e5aacda3",
   "metadata": {},
   "source": [
    "CI=95%, Pvalue >0.05"
   ]
  },
  {
   "cell_type": "code",
   "execution_count": 215,
   "id": "2d902ad9",
   "metadata": {},
   "outputs": [],
   "source": [
    "high = priority_data.loc[priority_data['Priority'] == 'High', 'Days']\n",
    "medium = priority_data.loc[priority_data['Priority'] == 'Medium', 'Days']\n",
    "low = priority_data.loc[priority_data['Priority'] == 'Low', 'Days']"
   ]
  },
  {
   "cell_type": "code",
   "execution_count": 216,
   "id": "911e9d0e",
   "metadata": {},
   "outputs": [
    {
     "data": {
      "text/plain": [
       "F_onewayResult(statistic=1.812311010076072, pvalue=0.16411459461716182)"
      ]
     },
     "execution_count": 216,
     "metadata": {},
     "output_type": "execute_result"
    }
   ],
   "source": [
    "stats.f_oneway(high,medium,low)"
   ]
  },
  {
   "cell_type": "code",
   "execution_count": 217,
   "id": "786dfb7b",
   "metadata": {},
   "outputs": [
    {
     "name": "stdout",
     "output_type": "stream",
     "text": [
      "Business Conclusion: pvalue >0.05, hence we can't reject Null hypothesis. At 95% Confidence interval, we cannot justify that   high priority jobs, on average, should be completed more quickly than medium priority jobs, and medium priority jobs should be completed more quickly than low priority jobs.\n"
     ]
    }
   ],
   "source": [
    "print(\"Business Conclusion: pvalue >0.05, hence we can't reject Null hypothesis. At 95% Confidence interval, we cannot justify that   high priority jobs, on average, should be completed more quickly than medium priority jobs, and medium priority jobs should be completed more quickly than low priority jobs.\")"
   ]
  },
  {
   "cell_type": "markdown",
   "id": "95138b40",
   "metadata": {},
   "source": [
    "### BUSINESS PROBLEM-5"
   ]
  },
  {
   "cell_type": "markdown",
   "id": "3bf7512e",
   "metadata": {},
   "source": [
    "#### Data Availabilty:"
   ]
  },
  {
   "cell_type": "code",
   "execution_count": 218,
   "id": "28f79d79",
   "metadata": {},
   "outputs": [],
   "source": [
    "film = pd.read_csv(\"C:/Users/Dell/Downloads/Basic Statistics - Hypothesis Testing/4. Basic Statistics - Hypothesis Testing/Films.csv\")"
   ]
  },
  {
   "cell_type": "code",
   "execution_count": 219,
   "id": "6b122fea",
   "metadata": {},
   "outputs": [
    {
     "data": {
      "text/html": [
       "<div>\n",
       "<style scoped>\n",
       "    .dataframe tbody tr th:only-of-type {\n",
       "        vertical-align: middle;\n",
       "    }\n",
       "\n",
       "    .dataframe tbody tr th {\n",
       "        vertical-align: top;\n",
       "    }\n",
       "\n",
       "    .dataframe thead th {\n",
       "        text-align: right;\n",
       "    }\n",
       "</style>\n",
       "<table border=\"1\" class=\"dataframe\">\n",
       "  <thead>\n",
       "    <tr style=\"text-align: right;\">\n",
       "      <th></th>\n",
       "      <th>_rowstate_</th>\n",
       "      <th>Movie</th>\n",
       "      <th>Gender</th>\n",
       "      <th>Marital_Status</th>\n",
       "      <th>Sinage</th>\n",
       "      <th>Parking</th>\n",
       "      <th>Clean</th>\n",
       "      <th>Overall</th>\n",
       "      <th>Age</th>\n",
       "      <th>Income</th>\n",
       "      <th>Hear_About</th>\n",
       "    </tr>\n",
       "  </thead>\n",
       "  <tbody>\n",
       "    <tr>\n",
       "      <th>0</th>\n",
       "      <td>0</td>\n",
       "      <td>Ferris Buellers Day Off</td>\n",
       "      <td>Female</td>\n",
       "      <td>Married</td>\n",
       "      <td>2.0</td>\n",
       "      <td>2.0</td>\n",
       "      <td>2.0</td>\n",
       "      <td>2.0</td>\n",
       "      <td>3.0</td>\n",
       "      <td>1.0</td>\n",
       "      <td>5</td>\n",
       "    </tr>\n",
       "    <tr>\n",
       "      <th>1</th>\n",
       "      <td>0</td>\n",
       "      <td>Ferris Buellers Day Off</td>\n",
       "      <td>Female</td>\n",
       "      <td>Single</td>\n",
       "      <td>1.0</td>\n",
       "      <td>1.0</td>\n",
       "      <td>1.0</td>\n",
       "      <td>1.0</td>\n",
       "      <td>2.0</td>\n",
       "      <td>1.0</td>\n",
       "      <td>5</td>\n",
       "    </tr>\n",
       "    <tr>\n",
       "      <th>2</th>\n",
       "      <td>0</td>\n",
       "      <td>Ferris Buellers Day Off</td>\n",
       "      <td>Male</td>\n",
       "      <td>Married</td>\n",
       "      <td>2.0</td>\n",
       "      <td>4.0</td>\n",
       "      <td>3.0</td>\n",
       "      <td>2.0</td>\n",
       "      <td>4.0</td>\n",
       "      <td>1.0</td>\n",
       "      <td>5</td>\n",
       "    </tr>\n",
       "    <tr>\n",
       "      <th>3</th>\n",
       "      <td>0</td>\n",
       "      <td>Ferris Buellers Day Off</td>\n",
       "      <td>Female</td>\n",
       "      <td>Married</td>\n",
       "      <td>1.0</td>\n",
       "      <td>3.0</td>\n",
       "      <td>2.0</td>\n",
       "      <td>2.0</td>\n",
       "      <td>4.0</td>\n",
       "      <td>1.0</td>\n",
       "      <td>5</td>\n",
       "    </tr>\n",
       "    <tr>\n",
       "      <th>4</th>\n",
       "      <td>0</td>\n",
       "      <td>Ferris Buellers Day Off</td>\n",
       "      <td>Female</td>\n",
       "      <td>Married</td>\n",
       "      <td>1.0</td>\n",
       "      <td>1.0</td>\n",
       "      <td>1.0</td>\n",
       "      <td>1.0</td>\n",
       "      <td>3.0</td>\n",
       "      <td>3.0</td>\n",
       "      <td>1</td>\n",
       "    </tr>\n",
       "  </tbody>\n",
       "</table>\n",
       "</div>"
      ],
      "text/plain": [
       "   _rowstate_                    Movie  Gender Marital_Status  Sinage  \\\n",
       "0           0  Ferris Buellers Day Off  Female        Married     2.0   \n",
       "1           0  Ferris Buellers Day Off  Female         Single     1.0   \n",
       "2           0  Ferris Buellers Day Off    Male        Married     2.0   \n",
       "3           0  Ferris Buellers Day Off  Female        Married     1.0   \n",
       "4           0  Ferris Buellers Day Off  Female        Married     1.0   \n",
       "\n",
       "   Parking  Clean  Overall  Age  Income Hear_About  \n",
       "0      2.0    2.0      2.0  3.0     1.0          5  \n",
       "1      1.0    1.0      1.0  2.0     1.0          5  \n",
       "2      4.0    3.0      2.0  4.0     1.0          5  \n",
       "3      3.0    2.0      2.0  4.0     1.0          5  \n",
       "4      1.0    1.0      1.0  3.0     3.0          1  "
      ]
     },
     "execution_count": 219,
     "metadata": {},
     "output_type": "execute_result"
    }
   ],
   "source": [
    "film.head(5)"
   ]
  },
  {
   "cell_type": "code",
   "execution_count": 220,
   "id": "55ad9a4f",
   "metadata": {},
   "outputs": [
    {
     "data": {
      "text/plain": [
       "(330, 11)"
      ]
     },
     "execution_count": 220,
     "metadata": {},
     "output_type": "execute_result"
    }
   ],
   "source": [
    "film.shape"
   ]
  },
  {
   "cell_type": "code",
   "execution_count": 221,
   "id": "d018449b",
   "metadata": {},
   "outputs": [
    {
     "name": "stdout",
     "output_type": "stream",
     "text": [
      "<class 'pandas.core.frame.DataFrame'>\n",
      "RangeIndex: 330 entries, 0 to 329\n",
      "Data columns (total 11 columns):\n",
      " #   Column          Non-Null Count  Dtype  \n",
      "---  ------          --------------  -----  \n",
      " 0   _rowstate_      330 non-null    int64  \n",
      " 1   Movie           330 non-null    object \n",
      " 2   Gender          330 non-null    object \n",
      " 3   Marital_Status  328 non-null    object \n",
      " 4   Sinage          328 non-null    float64\n",
      " 5   Parking         328 non-null    float64\n",
      " 6   Clean           327 non-null    float64\n",
      " 7   Overall         328 non-null    float64\n",
      " 8   Age             328 non-null    float64\n",
      " 9   Income          314 non-null    float64\n",
      " 10  Hear_About      323 non-null    object \n",
      "dtypes: float64(6), int64(1), object(4)\n",
      "memory usage: 28.5+ KB\n"
     ]
    }
   ],
   "source": [
    "film.info()"
   ]
  },
  {
   "cell_type": "code",
   "execution_count": 222,
   "id": "cab9d482",
   "metadata": {},
   "outputs": [
    {
     "data": {
      "text/plain": [
       "_rowstate_         0\n",
       "Movie              0\n",
       "Gender             0\n",
       "Marital_Status     2\n",
       "Sinage             2\n",
       "Parking            2\n",
       "Clean              3\n",
       "Overall            2\n",
       "Age                2\n",
       "Income            16\n",
       "Hear_About         7\n",
       "dtype: int64"
      ]
     },
     "execution_count": 222,
     "metadata": {},
     "output_type": "execute_result"
    }
   ],
   "source": [
    "film.isnull().sum()"
   ]
  },
  {
   "cell_type": "code",
   "execution_count": 223,
   "id": "5d26759e",
   "metadata": {},
   "outputs": [
    {
     "data": {
      "text/plain": [
       "2         194\n",
       "1         104\n",
       "Female     19\n",
       "Male       13\n",
       "Name: Gender, dtype: int64"
      ]
     },
     "execution_count": 223,
     "metadata": {},
     "output_type": "execute_result"
    }
   ],
   "source": [
    "film.Gender.value_counts()"
   ]
  },
  {
   "cell_type": "code",
   "execution_count": 224,
   "id": "7ba6d22a",
   "metadata": {},
   "outputs": [],
   "source": [
    "#where 1 = male  2 = female\n",
    "\n",
    "#replacing the values with thier interpetion:\n",
    "film['Gender'] = film['Gender'].replace({'1':'Male','2':'Female'})"
   ]
  },
  {
   "cell_type": "code",
   "execution_count": 225,
   "id": "3a715286",
   "metadata": {},
   "outputs": [
    {
     "data": {
      "text/plain": [
       "Female    213\n",
       "Male      117\n",
       "Name: Gender, dtype: int64"
      ]
     },
     "execution_count": 225,
     "metadata": {},
     "output_type": "execute_result"
    }
   ],
   "source": [
    "film.Gender.value_counts()"
   ]
  },
  {
   "cell_type": "code",
   "execution_count": 226,
   "id": "bf825649",
   "metadata": {},
   "outputs": [
    {
     "data": {
      "text/plain": [
       "2          208\n",
       "1           88\n",
       "Single      18\n",
       "Married     12\n",
       "Slngle       2\n",
       "Name: Marital_Status, dtype: int64"
      ]
     },
     "execution_count": 226,
     "metadata": {},
     "output_type": "execute_result"
    }
   ],
   "source": [
    "film.Marital_Status.value_counts()"
   ]
  },
  {
   "cell_type": "code",
   "execution_count": 227,
   "id": "a8996041",
   "metadata": {},
   "outputs": [],
   "source": [
    "#1 = married; 2 = single\n",
    "\n",
    "#replacing the values with thier interpetion:\n",
    "\n",
    "film['Marital_Status'] = film['Marital_Status'].replace({'1':'Married','2':'Single','Slngle':'Single'})"
   ]
  },
  {
   "cell_type": "code",
   "execution_count": 228,
   "id": "b466da76",
   "metadata": {},
   "outputs": [
    {
     "data": {
      "text/plain": [
       "Single     228\n",
       "Married    100\n",
       "Name: Marital_Status, dtype: int64"
      ]
     },
     "execution_count": 228,
     "metadata": {},
     "output_type": "execute_result"
    }
   ],
   "source": [
    "film.Marital_Status.value_counts()"
   ]
  },
  {
   "cell_type": "code",
   "execution_count": 229,
   "id": "2962679b",
   "metadata": {},
   "outputs": [],
   "source": [
    "film = film.dropna()"
   ]
  },
  {
   "cell_type": "code",
   "execution_count": 230,
   "id": "54a499bb",
   "metadata": {},
   "outputs": [
    {
     "data": {
      "text/plain": [
       "_rowstate_        0\n",
       "Movie             0\n",
       "Gender            0\n",
       "Marital_Status    0\n",
       "Sinage            0\n",
       "Parking           0\n",
       "Clean             0\n",
       "Overall           0\n",
       "Age               0\n",
       "Income            0\n",
       "Hear_About        0\n",
       "dtype: int64"
      ]
     },
     "execution_count": 230,
     "metadata": {},
     "output_type": "execute_result"
    }
   ],
   "source": [
    "film.isnull().sum()"
   ]
  },
  {
   "cell_type": "markdown",
   "id": "824af128",
   "metadata": {},
   "source": [
    "- all the null values are treated with fillna()"
   ]
  },
  {
   "cell_type": "markdown",
   "id": "7ccc1b68",
   "metadata": {},
   "source": [
    "#### a). What is the overall level of customer satisfaction?"
   ]
  },
  {
   "cell_type": "code",
   "execution_count": 231,
   "id": "58f85bc4",
   "metadata": {},
   "outputs": [
    {
     "name": "stdout",
     "output_type": "stream",
     "text": [
      "H0: There  is no significant difference in the overall level of customer satisfaction. \n"
     ]
    }
   ],
   "source": [
    "#step - 1 - H0:\n",
    "\n",
    "print(\"H0: There  is no significant difference in the overall level of customer satisfaction. \")"
   ]
  },
  {
   "cell_type": "code",
   "execution_count": 232,
   "id": "bd385d44",
   "metadata": {},
   "outputs": [
    {
     "name": "stdout",
     "output_type": "stream",
     "text": [
      "Ha: There is significant difference in the overall level of customer satisfaction. \n"
     ]
    }
   ],
   "source": [
    "#step - 2 - Ha:\n",
    "\n",
    "print(\"Ha: There is significant difference in the overall level of customer satisfaction. \")"
   ]
  },
  {
   "cell_type": "markdown",
   "id": "b1477dcf",
   "metadata": {},
   "source": [
    "CI=95%, Pvalue >0.05"
   ]
  },
  {
   "cell_type": "code",
   "execution_count": 233,
   "id": "f287c9c1",
   "metadata": {},
   "outputs": [
    {
     "data": {
      "text/plain": [
       "1.6212624584717608"
      ]
     },
     "execution_count": 233,
     "metadata": {},
     "output_type": "execute_result"
    }
   ],
   "source": [
    "mean = film['Overall'].mean()\n",
    "mean"
   ]
  },
  {
   "cell_type": "code",
   "execution_count": 234,
   "id": "3d02af8e",
   "metadata": {},
   "outputs": [
    {
     "data": {
      "text/plain": [
       "0.6753367561589327"
      ]
     },
     "execution_count": 234,
     "metadata": {},
     "output_type": "execute_result"
    }
   ],
   "source": [
    "std_dev = film['Overall'].std()\n",
    "std_dev"
   ]
  },
  {
   "cell_type": "code",
   "execution_count": 235,
   "id": "c9ef3601",
   "metadata": {},
   "outputs": [],
   "source": [
    "SE = std_dev / np.sqrt(film.shape[0])"
   ]
  },
  {
   "cell_type": "code",
   "execution_count": 236,
   "id": "46ea2f1a",
   "metadata": {},
   "outputs": [
    {
     "data": {
      "text/plain": [
       "1.5449679620169605"
      ]
     },
     "execution_count": 236,
     "metadata": {},
     "output_type": "execute_result"
    }
   ],
   "source": [
    "mean-(1.96*SE)"
   ]
  },
  {
   "cell_type": "code",
   "execution_count": 237,
   "id": "ab4bae8f",
   "metadata": {},
   "outputs": [
    {
     "data": {
      "text/plain": [
       "1.697556954926561"
      ]
     },
     "execution_count": 237,
     "metadata": {},
     "output_type": "execute_result"
    }
   ],
   "source": [
    "mean+(1.96*SE)"
   ]
  },
  {
   "cell_type": "code",
   "execution_count": 238,
   "id": "72e53aea",
   "metadata": {},
   "outputs": [
    {
     "name": "stdout",
     "output_type": "stream",
     "text": [
      "At 95% Confidence interval, we can say that the overall level of customer satisfaction ranges between (1.5337142222363835,1.6844675959454347)\n"
     ]
    }
   ],
   "source": [
    "print(\"At 95% Confidence interval, we can say that the overall level of customer satisfaction ranges between (1.5337142222363835,1.6844675959454347)\")"
   ]
  },
  {
   "cell_type": "markdown",
   "id": "97df3558",
   "metadata": {},
   "source": [
    "#### b). What factors are linked to satisfaction?\n"
   ]
  },
  {
   "cell_type": "code",
   "execution_count": 239,
   "id": "983d06a8",
   "metadata": {},
   "outputs": [
    {
     "name": "stdout",
     "output_type": "stream",
     "text": [
      "H0: There  is no significant relation between factors and customer satisfaction.\n"
     ]
    }
   ],
   "source": [
    "#step - 1 - H0:\n",
    "\n",
    "print(\"H0: There  is no significant relation between factors and customer satisfaction.\")"
   ]
  },
  {
   "cell_type": "code",
   "execution_count": 240,
   "id": "d85123db",
   "metadata": {},
   "outputs": [
    {
     "name": "stdout",
     "output_type": "stream",
     "text": [
      "Ha: There is significant relation between factors and customer satisfaction.\n"
     ]
    }
   ],
   "source": [
    "#step - 2 - Ha:\n",
    "\n",
    "print(\"Ha: There is significant relation between factors and customer satisfaction.\")"
   ]
  },
  {
   "cell_type": "markdown",
   "id": "c0d8361d",
   "metadata": {},
   "source": [
    "CI=95%, Pvalue >0.05"
   ]
  },
  {
   "cell_type": "code",
   "execution_count": 241,
   "id": "55d09e8e",
   "metadata": {},
   "outputs": [
    {
     "data": {
      "text/plain": [
       "Willy Wonka                142\n",
       "Ferris Buellers Day Off    128\n",
       "Old School                  31\n",
       "Name: Movie, dtype: int64"
      ]
     },
     "execution_count": 241,
     "metadata": {},
     "output_type": "execute_result"
    }
   ],
   "source": [
    "# lets consider Factor as Movie:\n",
    "\n",
    "film.Movie.value_counts()"
   ]
  },
  {
   "cell_type": "code",
   "execution_count": 242,
   "id": "830bb818",
   "metadata": {},
   "outputs": [],
   "source": [
    "willy_wonka = film.loc[film['Movie'] == 'Willy Wonka', 'Overall']\n",
    "ferris_buellers_day_off = film.loc[film['Movie'] == 'Ferris Buellers Day Off', 'Overall']\n",
    "old_school = film.loc[film['Movie'] == 'Old School', 'Overall']"
   ]
  },
  {
   "cell_type": "code",
   "execution_count": 243,
   "id": "9fa10367",
   "metadata": {},
   "outputs": [
    {
     "data": {
      "text/plain": [
       "F_onewayResult(statistic=1.6544157936900297, pvalue=0.19295498598334151)"
      ]
     },
     "execution_count": 243,
     "metadata": {},
     "output_type": "execute_result"
    }
   ],
   "source": [
    "stats.f_oneway(willy_wonka,ferris_buellers_day_off,old_school)"
   ]
  },
  {
   "cell_type": "code",
   "execution_count": 244,
   "id": "aec78623",
   "metadata": {},
   "outputs": [
    {
     "name": "stdout",
     "output_type": "stream",
     "text": [
      "Business Conclusion: pvalue >0.05, hence we can't reject Null hypothesis. At 95% Confidence interval, we can't say that Movie  factor are linked to customer satisfaction.\n"
     ]
    }
   ],
   "source": [
    "print(\"Business Conclusion: pvalue >0.05, hence we can't reject Null hypothesis. At 95% Confidence interval, we can't say that Movie  factor are linked to customer satisfaction.\")"
   ]
  },
  {
   "cell_type": "code",
   "execution_count": 245,
   "id": "8462dbc0",
   "metadata": {},
   "outputs": [
    {
     "data": {
      "text/plain": [
       "Female    195\n",
       "Male      106\n",
       "Name: Gender, dtype: int64"
      ]
     },
     "execution_count": 245,
     "metadata": {},
     "output_type": "execute_result"
    }
   ],
   "source": [
    "# lets consider Factor as Gender:\n",
    "\n",
    "film.Gender.value_counts()"
   ]
  },
  {
   "cell_type": "code",
   "execution_count": 246,
   "id": "86785ae9",
   "metadata": {},
   "outputs": [],
   "source": [
    "contingency_table1 = pd.crosstab(film['Gender'], film['Overall'])"
   ]
  },
  {
   "cell_type": "code",
   "execution_count": 247,
   "id": "e7fdf425",
   "metadata": {},
   "outputs": [],
   "source": [
    "chi2, p_value, dof, expected = chi2_contingency(contingency_table1)"
   ]
  },
  {
   "cell_type": "code",
   "execution_count": 248,
   "id": "bf682bfd",
   "metadata": {},
   "outputs": [
    {
     "name": "stdout",
     "output_type": "stream",
     "text": [
      "Chi-square statistic: 3.520985228074472\n",
      "p-value: 0.4746946769990794\n"
     ]
    }
   ],
   "source": [
    "print(\"Chi-square statistic:\", chi2)\n",
    "print(\"p-value:\", p_value)"
   ]
  },
  {
   "cell_type": "code",
   "execution_count": 249,
   "id": "a30cf6e3",
   "metadata": {},
   "outputs": [
    {
     "name": "stdout",
     "output_type": "stream",
     "text": [
      "Business Conclusion: pvalue >0.05, hence we can't reject Null hypothesis. At 95% Confidence interval, we can't say that Gender factor are linked to customer satisfaction.\n"
     ]
    }
   ],
   "source": [
    "print(\"Business Conclusion: pvalue >0.05, hence we can't reject Null hypothesis. At 95% Confidence interval, we can't say that Gender factor are linked to customer satisfaction.\")"
   ]
  },
  {
   "cell_type": "code",
   "execution_count": 250,
   "id": "3c95ef17",
   "metadata": {},
   "outputs": [
    {
     "data": {
      "text/plain": [
       "Single     210\n",
       "Married     91\n",
       "Name: Marital_Status, dtype: int64"
      ]
     },
     "execution_count": 250,
     "metadata": {},
     "output_type": "execute_result"
    }
   ],
   "source": [
    "# lets consider Factor as Marital_Status:\n",
    "\n",
    "film.Marital_Status.value_counts()"
   ]
  },
  {
   "cell_type": "code",
   "execution_count": 251,
   "id": "4969f2e0",
   "metadata": {},
   "outputs": [],
   "source": [
    "film.dropna(subset=['Marital_Status'], inplace=True)"
   ]
  },
  {
   "cell_type": "code",
   "execution_count": 252,
   "id": "f93147af",
   "metadata": {},
   "outputs": [],
   "source": [
    "married = film.loc[film['Marital_Status'] == 'Married', 'Overall']\n",
    "single = film.loc[film['Marital_Status'] == 'Single', 'Overall']"
   ]
  },
  {
   "cell_type": "code",
   "execution_count": 253,
   "id": "53328cbd",
   "metadata": {},
   "outputs": [
    {
     "data": {
      "text/plain": [
       "Ttest_indResult(statistic=-0.6562891067310667, pvalue=0.5121428623046123)"
      ]
     },
     "execution_count": 253,
     "metadata": {},
     "output_type": "execute_result"
    }
   ],
   "source": [
    "stats.ttest_ind(married,single)"
   ]
  },
  {
   "cell_type": "code",
   "execution_count": 254,
   "id": "8e5b8c2c",
   "metadata": {},
   "outputs": [
    {
     "name": "stdout",
     "output_type": "stream",
     "text": [
      "Business Conclusion: pvalue >0.05, hence we can't reject Null hypothesis. At 95% Confidence interval, we can't say that Marital Status factor are linked to customer satisfaction.\n"
     ]
    }
   ],
   "source": [
    "print(\"Business Conclusion: pvalue >0.05, hence we can't reject Null hypothesis. At 95% Confidence interval, we can't say that Marital Status factor are linked to customer satisfaction.\")"
   ]
  },
  {
   "cell_type": "code",
   "execution_count": 255,
   "id": "0b8b370e",
   "metadata": {},
   "outputs": [
    {
     "data": {
      "text/plain": [
       "2.0    140\n",
       "1.0    105\n",
       "3.0     45\n",
       "4.0      6\n",
       "5.0      5\n",
       "Name: Sinage, dtype: int64"
      ]
     },
     "execution_count": 255,
     "metadata": {},
     "output_type": "execute_result"
    }
   ],
   "source": [
    "#lets consider Factor as Sinage:\n",
    "\n",
    "film.Sinage.value_counts()"
   ]
  },
  {
   "cell_type": "code",
   "execution_count": 256,
   "id": "6c010e5f",
   "metadata": {},
   "outputs": [
    {
     "data": {
      "text/plain": [
       "PearsonRResult(statistic=0.41068947395476774, pvalue=1.1216055328082663e-13)"
      ]
     },
     "execution_count": 256,
     "metadata": {},
     "output_type": "execute_result"
    }
   ],
   "source": [
    "stats.pearsonr(film.Sinage,film.Overall)"
   ]
  },
  {
   "cell_type": "code",
   "execution_count": 257,
   "id": "c63d2ca3",
   "metadata": {},
   "outputs": [
    {
     "name": "stdout",
     "output_type": "stream",
     "text": [
      "Business Conclusion: pvalue <0.05, hence we can reject Null hypothesis. At 95% Confidence interval, we can say that Sinage   factor is linked to customer satisfaction.\n"
     ]
    }
   ],
   "source": [
    "print(\"Business Conclusion: pvalue <0.05, hence we can reject Null hypothesis. At 95% Confidence interval, we can say that Sinage   factor is linked to customer satisfaction.\")"
   ]
  },
  {
   "cell_type": "code",
   "execution_count": 258,
   "id": "adc88241",
   "metadata": {},
   "outputs": [
    {
     "data": {
      "text/plain": [
       "2.0    139\n",
       "1.0    122\n",
       "3.0     29\n",
       "4.0      7\n",
       "5.0      4\n",
       "Name: Parking, dtype: int64"
      ]
     },
     "execution_count": 258,
     "metadata": {},
     "output_type": "execute_result"
    }
   ],
   "source": [
    "#lets consider Factor as Parking:\n",
    "\n",
    "film.Parking.value_counts()"
   ]
  },
  {
   "cell_type": "code",
   "execution_count": 259,
   "id": "658576ed",
   "metadata": {},
   "outputs": [
    {
     "data": {
      "text/plain": [
       "Ttest_indResult(statistic=2.556336929126799, pvalue=0.010823193586261687)"
      ]
     },
     "execution_count": 259,
     "metadata": {},
     "output_type": "execute_result"
    }
   ],
   "source": [
    "stats.ttest_ind(film.Parking,film.Overall)"
   ]
  },
  {
   "cell_type": "code",
   "execution_count": 260,
   "id": "628d9149",
   "metadata": {},
   "outputs": [
    {
     "name": "stdout",
     "output_type": "stream",
     "text": [
      "Business Conclusion: pvalue <0.05, hence we can reject Null hypothesis. At 95% Confidence interval, we can say that Parking    factor is linked to customer satisfaction.\n"
     ]
    }
   ],
   "source": [
    "print(\"Business Conclusion: pvalue <0.05, hence we can reject Null hypothesis. At 95% Confidence interval, we can say that Parking    factor is linked to customer satisfaction.\")"
   ]
  },
  {
   "cell_type": "code",
   "execution_count": 261,
   "id": "e8e09391",
   "metadata": {},
   "outputs": [
    {
     "data": {
      "text/plain": [
       "2.0    138\n",
       "1.0    134\n",
       "3.0     22\n",
       "4.0      5\n",
       "5.0      2\n",
       "Name: Clean, dtype: int64"
      ]
     },
     "execution_count": 261,
     "metadata": {},
     "output_type": "execute_result"
    }
   ],
   "source": [
    "#lets consider Factor as Clean:\n",
    "\n",
    "film.Clean.value_counts()"
   ]
  },
  {
   "cell_type": "code",
   "execution_count": 262,
   "id": "71fb832d",
   "metadata": {},
   "outputs": [
    {
     "data": {
      "text/plain": [
       "Ttest_indResult(statistic=1.0371467603654085, pvalue=0.30008526066930125)"
      ]
     },
     "execution_count": 262,
     "metadata": {},
     "output_type": "execute_result"
    }
   ],
   "source": [
    "stats.ttest_ind(film.Clean,film.Overall)"
   ]
  },
  {
   "cell_type": "code",
   "execution_count": 263,
   "id": "cbb4bd8f",
   "metadata": {},
   "outputs": [
    {
     "name": "stdout",
     "output_type": "stream",
     "text": [
      "Business Conclusion: pvalue >0.05, hence we can't reject Null hypothesis. At 95% Confidence interval, we can't say that Clean  Factor is linked to customer satisfaction.\n"
     ]
    }
   ],
   "source": [
    "print(\"Business Conclusion: pvalue >0.05, hence we can't reject Null hypothesis. At 95% Confidence interval, we can't say that Clean  Factor is linked to customer satisfaction.\")  "
   ]
  },
  {
   "cell_type": "code",
   "execution_count": 264,
   "id": "b8a84a41",
   "metadata": {},
   "outputs": [
    {
     "data": {
      "text/plain": [
       "2.0    164\n",
       "3.0    108\n",
       "1.0     22\n",
       "4.0      7\n",
       "Name: Age, dtype: int64"
      ]
     },
     "execution_count": 264,
     "metadata": {},
     "output_type": "execute_result"
    }
   ],
   "source": [
    "#lets consider Factor as Age:\n",
    "\n",
    "film.Age.value_counts()"
   ]
  },
  {
   "cell_type": "code",
   "execution_count": 265,
   "id": "cc16e57a",
   "metadata": {},
   "outputs": [
    {
     "data": {
      "text/plain": [
       "Ttest_indResult(statistic=13.20903770904427, pvalue=3.7705617209124056e-35)"
      ]
     },
     "execution_count": 265,
     "metadata": {},
     "output_type": "execute_result"
    }
   ],
   "source": [
    "stats.ttest_ind(film.Age,film.Overall)"
   ]
  },
  {
   "cell_type": "code",
   "execution_count": 266,
   "id": "13dd23cb",
   "metadata": {},
   "outputs": [
    {
     "name": "stdout",
     "output_type": "stream",
     "text": [
      "Business Conclusion: pvalue <0.05, hence we can reject Null hypothesis. At 95% Confidence interval, we can say that Age Factor is linked to customer satisfaction.\n"
     ]
    }
   ],
   "source": [
    "print(\"Business Conclusion: pvalue <0.05, hence we can reject Null hypothesis. At 95% Confidence interval, we can say that Age Factor is linked to customer satisfaction.\")"
   ]
  },
  {
   "cell_type": "code",
   "execution_count": 267,
   "id": "b4550499",
   "metadata": {},
   "outputs": [
    {
     "data": {
      "text/plain": [
       "1.0    135\n",
       "3.0     86\n",
       "2.0     80\n",
       "Name: Income, dtype: int64"
      ]
     },
     "execution_count": 267,
     "metadata": {},
     "output_type": "execute_result"
    }
   ],
   "source": [
    "#lets consider Factor as Income:\n",
    "\n",
    "film.Income.value_counts()"
   ]
  },
  {
   "cell_type": "code",
   "execution_count": 268,
   "id": "eabd82f3",
   "metadata": {},
   "outputs": [],
   "source": [
    "income1 = film.loc[film['Income'] == 1.0, 'Overall']\n",
    "income2 = film.loc[film['Income'] == 2.0, 'Overall']\n",
    "income3 = film.loc[film['Income'] == 3.0, 'Overall']"
   ]
  },
  {
   "cell_type": "code",
   "execution_count": 269,
   "id": "bdf78fcf",
   "metadata": {},
   "outputs": [
    {
     "data": {
      "text/plain": [
       "F_onewayResult(statistic=0.07833541197338059, pvalue=0.9246732684933006)"
      ]
     },
     "execution_count": 269,
     "metadata": {},
     "output_type": "execute_result"
    }
   ],
   "source": [
    "stats.f_oneway(income1,income2,income3)"
   ]
  },
  {
   "cell_type": "code",
   "execution_count": 270,
   "id": "b648ad5b",
   "metadata": {},
   "outputs": [
    {
     "name": "stdout",
     "output_type": "stream",
     "text": [
      "Business Conclusion: pvalue >0.05, hence we can't reject Null hypothesis. At 95% Confidence interval, we can't say that Income Factor is linked to customer satisfaction.\n"
     ]
    }
   ],
   "source": [
    "print(\"Business Conclusion: pvalue >0.05, hence we can't reject Null hypothesis. At 95% Confidence interval, we can't say that Income Factor is linked to customer satisfaction.\") "
   ]
  },
  {
   "cell_type": "code",
   "execution_count": 271,
   "id": "ee8f9410",
   "metadata": {},
   "outputs": [
    {
     "data": {
      "text/plain": [
       "5      212\n",
       "4       39\n",
       "1       19\n",
       "3       13\n",
       "2       11\n",
       "2,5      2\n",
       "4,5      1\n",
       "1,5      1\n",
       "5,4      1\n",
       "3,5      1\n",
       "3,4      1\n",
       "Name: Hear_About, dtype: int64"
      ]
     },
     "execution_count": 271,
     "metadata": {},
     "output_type": "execute_result"
    }
   ],
   "source": [
    "#lets consider Factor as Hear_About:\n",
    "\n",
    "film.Hear_About.value_counts()"
   ]
  },
  {
   "cell_type": "code",
   "execution_count": 272,
   "id": "2897344b",
   "metadata": {},
   "outputs": [],
   "source": [
    "Hear_About_5 = film.loc[film['Hear_About'] == '5', 'Overall']\n",
    "Hear_About_4 = film.loc[film['Hear_About'] == '4', 'Overall']\n",
    "Hear_About_3 = film.loc[film['Hear_About'] == '3', 'Overall']\n",
    "Hear_About_2 = film.loc[film['Hear_About'] == '2', 'Overall']\n",
    "Hear_About_1 = film.loc[film['Hear_About'] == '1', 'Overall']\n",
    "Hear_About_2_5 = film.loc[film['Hear_About'] == '2,5', 'Overall']\n",
    "Hear_About_3_4 = film.loc[film['Hear_About'] == '3,4', 'Overall']\n",
    "Hear_About_4_5 = film.loc[film['Hear_About'] == '4,5', 'Overall']\n",
    "Hear_About_1_5 = film.loc[film['Hear_About'] == '1,5', 'Overall']\n",
    "Hear_About_5_4 = film.loc[film['Hear_About'] == '5,4', 'Overall']\n",
    "Hear_About_3_5 = film.loc[film['Hear_About'] == '3,5', 'Overall']"
   ]
  },
  {
   "cell_type": "code",
   "execution_count": 273,
   "id": "1cc24d39",
   "metadata": {},
   "outputs": [
    {
     "data": {
      "text/plain": [
       "F_onewayResult(statistic=1.3239633373096027, pvalue=0.21684279967574144)"
      ]
     },
     "execution_count": 273,
     "metadata": {},
     "output_type": "execute_result"
    }
   ],
   "source": [
    "stats.f_oneway(Hear_About_5,Hear_About_4,Hear_About_3,Hear_About_2,Hear_About_1,Hear_About_2_5,Hear_About_3_4,Hear_About_4_5,Hear_About_1_5,Hear_About_5_4,Hear_About_3_5)"
   ]
  },
  {
   "cell_type": "code",
   "execution_count": 274,
   "id": "ef73a33a",
   "metadata": {},
   "outputs": [
    {
     "name": "stdout",
     "output_type": "stream",
     "text": [
      "Business Conclusion: pvalue >0.05, hence we can't reject Null hypothesis. At 95% Confidence interval, we can't say that Hear-   About Factor is linked to customer satisfaction.\n"
     ]
    }
   ],
   "source": [
    "print(\"Business Conclusion: pvalue >0.05, hence we can't reject Null hypothesis. At 95% Confidence interval, we can't say that Hear-   About Factor is linked to customer satisfaction.\") "
   ]
  },
  {
   "cell_type": "markdown",
   "id": "337d6274",
   "metadata": {},
   "source": [
    "- Sinage, Parking, Age are factors that are linked to Customer Satisfaction."
   ]
  },
  {
   "cell_type": "markdown",
   "id": "443f1eea",
   "metadata": {},
   "source": [
    "#### c).What is the demographic profile of Film on the Rocks patrons?"
   ]
  },
  {
   "cell_type": "code",
   "execution_count": 275,
   "id": "4b79b58a",
   "metadata": {},
   "outputs": [
    {
     "data": {
      "text/plain": [
       "Text(0.5, 1.0, 'Gender Distribution')"
      ]
     },
     "execution_count": 275,
     "metadata": {},
     "output_type": "execute_result"
    },
    {
     "data": {
      "image/png": "[encoded data removed]",
      "text/plain": [
       "<Figure size 640x480 with 1 Axes>"
      ]
     },
     "metadata": {},
     "output_type": "display_data"
    }
   ],
   "source": [
    "#Gender\n",
    "\n",
    "labels = ['Female', 'Male']\n",
    "colors = ['Pink','lightblue']\n",
    "a= film['Gender'].value_counts()/film.shape[0]\n",
    "plt.pie(a,labels=labels, colors=colors, autopct='%1.2f%%', startangle=90)\n",
    "plt.title('Gender Distribution')"
   ]
  },
  {
   "cell_type": "code",
   "execution_count": 276,
   "id": "08fda973",
   "metadata": {},
   "outputs": [
    {
     "data": {
      "image/png": "[encoded data removed]",
      "text/plain": [
       "<Figure size 640x480 with 1 Axes>"
      ]
     },
     "metadata": {},
     "output_type": "display_data"
    }
   ],
   "source": [
    "#Marital_Status\n",
    "\n",
    "labels = ['Single', 'Married']\n",
    "colors = ['red', 'yellow']\n",
    "a = film['Marital_Status'].value_counts() / film.shape[0]\n",
    "plt.pie(a, labels=a.index, colors=colors, autopct='%1.2f%%', startangle=90)\n",
    "plt.title('Marital Status Distribution')\n",
    "plt.axis('equal')\n",
    "plt.show()"
   ]
  },
  {
   "cell_type": "code",
   "execution_count": 277,
   "id": "b42ada7e",
   "metadata": {},
   "outputs": [
    {
     "data": {
      "image/png": "[encoded data removed]",
      "text/plain": [
       "<Figure size 640x480 with 1 Axes>"
      ]
     },
     "metadata": {},
     "output_type": "display_data"
    }
   ],
   "source": [
    "#Sinage:\n",
    "\n",
    "a = film['Sinage'].value_counts()\n",
    "plt.bar(a.index, a.values)\n",
    "plt.xlabel('Sinage Rating')\n",
    "plt.ylabel('Count')\n",
    "plt.title('Sinage Distribution')\n",
    "plt.show()"
   ]
  },
  {
   "cell_type": "code",
   "execution_count": 278,
   "id": "5632b862",
   "metadata": {},
   "outputs": [
    {
     "data": {
      "image/png": "[encoded data removed]",
      "text/plain": [
       "<Figure size 640x480 with 1 Axes>"
      ]
     },
     "metadata": {},
     "output_type": "display_data"
    }
   ],
   "source": [
    "#Parking:\n",
    "\n",
    "a = film['Parking'].value_counts()\n",
    "plt.bar(a.index, a.values)\n",
    "plt.xlabel('Parking')\n",
    "plt.ylabel('Count')\n",
    "plt.title('Parking Distribution')\n",
    "plt.show()"
   ]
  },
  {
   "cell_type": "code",
   "execution_count": 279,
   "id": "59d37fb5",
   "metadata": {},
   "outputs": [
    {
     "data": {
      "image/png": "[encoded data removed]",
      "text/plain": [
       "<Figure size 640x480 with 1 Axes>"
      ]
     },
     "metadata": {},
     "output_type": "display_data"
    }
   ],
   "source": [
    "#Clean:\n",
    "\n",
    "a = film['Clean'].value_counts()\n",
    "plt.bar(a.index, a.values)\n",
    "plt.xlabel('Clean')\n",
    "plt.ylabel('Count')\n",
    "plt.title('Clean Distribution')\n",
    "plt.show()"
   ]
  },
  {
   "cell_type": "code",
   "execution_count": 280,
   "id": "6f49d0d0",
   "metadata": {},
   "outputs": [
    {
     "data": {
      "image/png": "[encoded data removed]",
      "text/plain": [
       "<Figure size 640x480 with 1 Axes>"
      ]
     },
     "metadata": {},
     "output_type": "display_data"
    }
   ],
   "source": [
    "a = film['Age'].value_counts()\n",
    "labels = ['13-30','31-60','1-12','60+']\n",
    "plt.pie(a, labels=labels, autopct='%1.2f%%', startangle=90)\n",
    "plt.title('Age Distribution')\n",
    "plt.show()"
   ]
  },
  {
   "cell_type": "code",
   "execution_count": 281,
   "id": "c4ab6b8a",
   "metadata": {},
   "outputs": [
    {
     "data": {
      "image/png": "[encoded data removed]",
      "text/plain": [
       "<Figure size 640x480 with 1 Axes>"
      ]
     },
     "metadata": {},
     "output_type": "display_data"
    }
   ],
   "source": [
    "#Income:\n",
    "\n",
    "a = film['Income'].value_counts()\n",
    "labels = ['$50000','$50-$100,000','$100,000+']\n",
    "plt.pie(a, labels=labels,autopct='%1.2f%%', startangle=90)\n",
    "plt.title('Income Distribution')\n",
    "plt.axis('equal')\n",
    "plt.show()"
   ]
  },
  {
   "cell_type": "markdown",
   "id": "dfdc9709",
   "metadata": {},
   "source": [
    "#### d). In what media outlet(s) should the film series be advertised?"
   ]
  },
  {
   "cell_type": "code",
   "execution_count": 282,
   "id": "087380b8",
   "metadata": {},
   "outputs": [
    {
     "data": {
      "text/html": [
       "<div>\n",
       "<style scoped>\n",
       "    .dataframe tbody tr th:only-of-type {\n",
       "        vertical-align: middle;\n",
       "    }\n",
       "\n",
       "    .dataframe tbody tr th {\n",
       "        vertical-align: top;\n",
       "    }\n",
       "\n",
       "    .dataframe thead th {\n",
       "        text-align: right;\n",
       "    }\n",
       "</style>\n",
       "<table border=\"1\" class=\"dataframe\">\n",
       "  <thead>\n",
       "    <tr style=\"text-align: right;\">\n",
       "      <th></th>\n",
       "      <th>_rowstate_</th>\n",
       "      <th>Movie</th>\n",
       "      <th>Gender</th>\n",
       "      <th>Marital_Status</th>\n",
       "      <th>Sinage</th>\n",
       "      <th>Parking</th>\n",
       "      <th>Clean</th>\n",
       "      <th>Overall</th>\n",
       "      <th>Age</th>\n",
       "      <th>Income</th>\n",
       "      <th>Hear_About</th>\n",
       "    </tr>\n",
       "  </thead>\n",
       "  <tbody>\n",
       "    <tr>\n",
       "      <th>0</th>\n",
       "      <td>0</td>\n",
       "      <td>Ferris Buellers Day Off</td>\n",
       "      <td>Female</td>\n",
       "      <td>Married</td>\n",
       "      <td>2.0</td>\n",
       "      <td>2.0</td>\n",
       "      <td>2.0</td>\n",
       "      <td>2.0</td>\n",
       "      <td>3.0</td>\n",
       "      <td>1.0</td>\n",
       "      <td>5</td>\n",
       "    </tr>\n",
       "    <tr>\n",
       "      <th>1</th>\n",
       "      <td>0</td>\n",
       "      <td>Ferris Buellers Day Off</td>\n",
       "      <td>Female</td>\n",
       "      <td>Single</td>\n",
       "      <td>1.0</td>\n",
       "      <td>1.0</td>\n",
       "      <td>1.0</td>\n",
       "      <td>1.0</td>\n",
       "      <td>2.0</td>\n",
       "      <td>1.0</td>\n",
       "      <td>5</td>\n",
       "    </tr>\n",
       "    <tr>\n",
       "      <th>2</th>\n",
       "      <td>0</td>\n",
       "      <td>Ferris Buellers Day Off</td>\n",
       "      <td>Male</td>\n",
       "      <td>Married</td>\n",
       "      <td>2.0</td>\n",
       "      <td>4.0</td>\n",
       "      <td>3.0</td>\n",
       "      <td>2.0</td>\n",
       "      <td>4.0</td>\n",
       "      <td>1.0</td>\n",
       "      <td>5</td>\n",
       "    </tr>\n",
       "    <tr>\n",
       "      <th>3</th>\n",
       "      <td>0</td>\n",
       "      <td>Ferris Buellers Day Off</td>\n",
       "      <td>Female</td>\n",
       "      <td>Married</td>\n",
       "      <td>1.0</td>\n",
       "      <td>3.0</td>\n",
       "      <td>2.0</td>\n",
       "      <td>2.0</td>\n",
       "      <td>4.0</td>\n",
       "      <td>1.0</td>\n",
       "      <td>5</td>\n",
       "    </tr>\n",
       "    <tr>\n",
       "      <th>4</th>\n",
       "      <td>0</td>\n",
       "      <td>Ferris Buellers Day Off</td>\n",
       "      <td>Female</td>\n",
       "      <td>Married</td>\n",
       "      <td>1.0</td>\n",
       "      <td>1.0</td>\n",
       "      <td>1.0</td>\n",
       "      <td>1.0</td>\n",
       "      <td>3.0</td>\n",
       "      <td>3.0</td>\n",
       "      <td>1</td>\n",
       "    </tr>\n",
       "  </tbody>\n",
       "</table>\n",
       "</div>"
      ],
      "text/plain": [
       "   _rowstate_                    Movie  Gender Marital_Status  Sinage  \\\n",
       "0           0  Ferris Buellers Day Off  Female        Married     2.0   \n",
       "1           0  Ferris Buellers Day Off  Female         Single     1.0   \n",
       "2           0  Ferris Buellers Day Off    Male        Married     2.0   \n",
       "3           0  Ferris Buellers Day Off  Female        Married     1.0   \n",
       "4           0  Ferris Buellers Day Off  Female        Married     1.0   \n",
       "\n",
       "   Parking  Clean  Overall  Age  Income Hear_About  \n",
       "0      2.0    2.0      2.0  3.0     1.0          5  \n",
       "1      1.0    1.0      1.0  2.0     1.0          5  \n",
       "2      4.0    3.0      2.0  4.0     1.0          5  \n",
       "3      3.0    2.0      2.0  4.0     1.0          5  \n",
       "4      1.0    1.0      1.0  3.0     3.0          1  "
      ]
     },
     "execution_count": 282,
     "metadata": {},
     "output_type": "execute_result"
    }
   ],
   "source": [
    "film.head()"
   ]
  },
  {
   "cell_type": "code",
   "execution_count": 283,
   "id": "e798f292",
   "metadata": {},
   "outputs": [
    {
     "data": {
      "text/plain": [
       "5      212\n",
       "4       39\n",
       "1       19\n",
       "3       13\n",
       "2       11\n",
       "2,5      2\n",
       "4,5      1\n",
       "1,5      1\n",
       "5,4      1\n",
       "3,5      1\n",
       "3,4      1\n",
       "Name: Hear_About, dtype: int64"
      ]
     },
     "execution_count": 283,
     "metadata": {},
     "output_type": "execute_result"
    }
   ],
   "source": [
    "#Hear about is response to film:\n",
    "#1 = television; 2 =newspaper; 3 = radio; 4 = website; 5 = word of mouth\n",
    "\n",
    "hear_about = film['Hear_About'].value_counts()\n",
    "hear_about"
   ]
  },
  {
   "cell_type": "code",
   "execution_count": 284,
   "id": "40f17517",
   "metadata": {},
   "outputs": [
    {
     "name": "stdout",
     "output_type": "stream",
     "text": [
      "The film series be advertised in the following media outlets:  ['5']  is Word of Mouth\n"
     ]
    }
   ],
   "source": [
    "outlets = hear_about[hear_about == hear_about.max()].index.tolist()\n",
    "print(\"The film series be advertised in the following media outlets: \",outlets,\" is Word of Mouth\")"
   ]
  },
  {
   "cell_type": "code",
   "execution_count": null,
   "id": "2a705d68",
   "metadata": {},
   "outputs": [],
   "source": []
  }
 ],
 "metadata": {
  "kernelspec": {
   "display_name": "Python 3 (ipykernel)",
   "language": "python",
   "name": "python3"
  },
  "language_info": {
   "codemirror_mode": {
    "name": "ipython",
    "version": 3
   },
   "file_extension": ".py",
   "mimetype": "text/x-python",
   "name": "python",
   "nbconvert_exporter": "python",
   "pygments_lexer": "ipython3",
   "version": "3.9.13"
  }
 },
 "nbformat": 4,
 "nbformat_minor": 5
}
